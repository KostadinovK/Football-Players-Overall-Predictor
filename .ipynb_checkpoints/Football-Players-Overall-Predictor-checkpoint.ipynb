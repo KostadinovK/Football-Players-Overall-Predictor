{
 "cells": [
  {
   "cell_type": "code",
   "execution_count": 1,
   "metadata": {},
   "outputs": [],
   "source": [
    "import numpy as np\n",
    "import pandas as pd\n",
    "import matplotlib.pyplot as plt\n",
    "\n",
    "from sklearn.linear_model import LinearRegression\n",
    "from sklearn.linear_model import Ridge\n",
    "from sklearn.model_selection import train_test_split\n",
    "from sklearn.model_selection import GridSearchCV\n",
    "from sklearn.metrics import mean_squared_error\n",
    "from sklearn.metrics import r2_score\n",
    "from sklearn.preprocessing import PolynomialFeatures\n",
    "from sklearn.pipeline import make_pipeline\n",
    "from sklearn.svm import SVR"
   ]
  },
  {
   "cell_type": "code",
   "execution_count": 2,
   "metadata": {},
   "outputs": [],
   "source": [
    "plt.style.use(\"seaborn-notebook\")"
   ]
  },
  {
   "cell_type": "markdown",
   "metadata": {},
   "source": [
    "# Football Players Overall Predictor For FIFA 18\n",
    "## Author: Kostadin Kostadinov\n",
    "\n",
    "![alternative text](logo.jpg)"
   ]
  },
  {
   "cell_type": "markdown",
   "metadata": {},
   "source": [
    "## Abstract\n",
    "This is a football players overall predictor based on FIFA 18. Our data contains over 18 000 players with theirs characteristics, weak sides and strong sides. Based on this data this project will predict the overall rating(it can be from 1 to 100). Just for addition info you can check how EA Sports calculate a player's rating down in the resources section.\n",
    "\n",
    "__We will:__\n",
    "-  Apply some preprocessing steps to prepare the data.\n",
    "- Then, we will perform a descriptive analysis of the data to better understand the main characteristics that they have.\n",
    "- We will continue by training different machine learning models using scikit-learn.\n",
    "- Then, we will iterate and evaluate the learned models by using unseen data. Later, we will compare them until we find a good model that meets our expectations.\n",
    "- Once we have chosen the candidate model, we will use it to perform predictions and to create a simple web application that consumes this predictive model."
   ]
  },
  {
   "cell_type": "markdown",
   "metadata": {},
   "source": [
    "### Loading and cleaning our data"
   ]
  },
  {
   "cell_type": "markdown",
   "metadata": {},
   "source": [
    "We will load the dataset with the players and apply some cleaning and transformation.\n"
   ]
  },
  {
   "cell_type": "code",
   "execution_count": 101,
   "metadata": {
    "scrolled": true
   },
   "outputs": [
    {
     "name": "stdout",
     "output_type": "stream",
     "text": [
      "(17981, 74)\n"
     ]
    },
    {
     "data": {
      "text/html": [
       "<div>\n",
       "<style scoped>\n",
       "    .dataframe tbody tr th:only-of-type {\n",
       "        vertical-align: middle;\n",
       "    }\n",
       "\n",
       "    .dataframe tbody tr th {\n",
       "        vertical-align: top;\n",
       "    }\n",
       "\n",
       "    .dataframe thead th {\n",
       "        text-align: right;\n",
       "    }\n",
       "</style>\n",
       "<table border=\"1\" class=\"dataframe\">\n",
       "  <thead>\n",
       "    <tr style=\"text-align: right;\">\n",
       "      <th></th>\n",
       "      <th>Name</th>\n",
       "      <th>Age</th>\n",
       "      <th>Photo</th>\n",
       "      <th>Nationality</th>\n",
       "      <th>Flag</th>\n",
       "      <th>Overall</th>\n",
       "      <th>Potential</th>\n",
       "      <th>Club</th>\n",
       "      <th>Club Logo</th>\n",
       "      <th>Value</th>\n",
       "      <th>...</th>\n",
       "      <th>RB</th>\n",
       "      <th>RCB</th>\n",
       "      <th>RCM</th>\n",
       "      <th>RDM</th>\n",
       "      <th>RF</th>\n",
       "      <th>RM</th>\n",
       "      <th>RS</th>\n",
       "      <th>RW</th>\n",
       "      <th>RWB</th>\n",
       "      <th>ST</th>\n",
       "    </tr>\n",
       "  </thead>\n",
       "  <tbody>\n",
       "    <tr>\n",
       "      <th>0</th>\n",
       "      <td>Cristiano Ronaldo</td>\n",
       "      <td>32</td>\n",
       "      <td>https://cdn.sofifa.org/48/18/players/20801.png</td>\n",
       "      <td>Portugal</td>\n",
       "      <td>https://cdn.sofifa.org/flags/38.png</td>\n",
       "      <td>94</td>\n",
       "      <td>94</td>\n",
       "      <td>Real Madrid CF</td>\n",
       "      <td>https://cdn.sofifa.org/24/18/teams/243.png</td>\n",
       "      <td>€95.5M</td>\n",
       "      <td>...</td>\n",
       "      <td>61.0</td>\n",
       "      <td>53.0</td>\n",
       "      <td>82.0</td>\n",
       "      <td>62.0</td>\n",
       "      <td>91.0</td>\n",
       "      <td>89.0</td>\n",
       "      <td>92.0</td>\n",
       "      <td>91.0</td>\n",
       "      <td>66.0</td>\n",
       "      <td>92.0</td>\n",
       "    </tr>\n",
       "    <tr>\n",
       "      <th>1</th>\n",
       "      <td>L. Messi</td>\n",
       "      <td>30</td>\n",
       "      <td>https://cdn.sofifa.org/48/18/players/158023.png</td>\n",
       "      <td>Argentina</td>\n",
       "      <td>https://cdn.sofifa.org/flags/52.png</td>\n",
       "      <td>93</td>\n",
       "      <td>93</td>\n",
       "      <td>FC Barcelona</td>\n",
       "      <td>https://cdn.sofifa.org/24/18/teams/241.png</td>\n",
       "      <td>€105M</td>\n",
       "      <td>...</td>\n",
       "      <td>57.0</td>\n",
       "      <td>45.0</td>\n",
       "      <td>84.0</td>\n",
       "      <td>59.0</td>\n",
       "      <td>92.0</td>\n",
       "      <td>90.0</td>\n",
       "      <td>88.0</td>\n",
       "      <td>91.0</td>\n",
       "      <td>62.0</td>\n",
       "      <td>88.0</td>\n",
       "    </tr>\n",
       "    <tr>\n",
       "      <th>2</th>\n",
       "      <td>Neymar</td>\n",
       "      <td>25</td>\n",
       "      <td>https://cdn.sofifa.org/48/18/players/190871.png</td>\n",
       "      <td>Brazil</td>\n",
       "      <td>https://cdn.sofifa.org/flags/54.png</td>\n",
       "      <td>92</td>\n",
       "      <td>94</td>\n",
       "      <td>Paris Saint-Germain</td>\n",
       "      <td>https://cdn.sofifa.org/24/18/teams/73.png</td>\n",
       "      <td>€123M</td>\n",
       "      <td>...</td>\n",
       "      <td>59.0</td>\n",
       "      <td>46.0</td>\n",
       "      <td>79.0</td>\n",
       "      <td>59.0</td>\n",
       "      <td>88.0</td>\n",
       "      <td>87.0</td>\n",
       "      <td>84.0</td>\n",
       "      <td>89.0</td>\n",
       "      <td>64.0</td>\n",
       "      <td>84.0</td>\n",
       "    </tr>\n",
       "    <tr>\n",
       "      <th>3</th>\n",
       "      <td>L. Suárez</td>\n",
       "      <td>30</td>\n",
       "      <td>https://cdn.sofifa.org/48/18/players/176580.png</td>\n",
       "      <td>Uruguay</td>\n",
       "      <td>https://cdn.sofifa.org/flags/60.png</td>\n",
       "      <td>92</td>\n",
       "      <td>92</td>\n",
       "      <td>FC Barcelona</td>\n",
       "      <td>https://cdn.sofifa.org/24/18/teams/241.png</td>\n",
       "      <td>€97M</td>\n",
       "      <td>...</td>\n",
       "      <td>64.0</td>\n",
       "      <td>58.0</td>\n",
       "      <td>80.0</td>\n",
       "      <td>65.0</td>\n",
       "      <td>88.0</td>\n",
       "      <td>85.0</td>\n",
       "      <td>88.0</td>\n",
       "      <td>87.0</td>\n",
       "      <td>68.0</td>\n",
       "      <td>88.0</td>\n",
       "    </tr>\n",
       "    <tr>\n",
       "      <th>4</th>\n",
       "      <td>M. Neuer</td>\n",
       "      <td>31</td>\n",
       "      <td>https://cdn.sofifa.org/48/18/players/167495.png</td>\n",
       "      <td>Germany</td>\n",
       "      <td>https://cdn.sofifa.org/flags/21.png</td>\n",
       "      <td>92</td>\n",
       "      <td>92</td>\n",
       "      <td>FC Bayern Munich</td>\n",
       "      <td>https://cdn.sofifa.org/24/18/teams/21.png</td>\n",
       "      <td>€61M</td>\n",
       "      <td>...</td>\n",
       "      <td>NaN</td>\n",
       "      <td>NaN</td>\n",
       "      <td>NaN</td>\n",
       "      <td>NaN</td>\n",
       "      <td>NaN</td>\n",
       "      <td>NaN</td>\n",
       "      <td>NaN</td>\n",
       "      <td>NaN</td>\n",
       "      <td>NaN</td>\n",
       "      <td>NaN</td>\n",
       "    </tr>\n",
       "  </tbody>\n",
       "</table>\n",
       "<p>5 rows × 74 columns</p>\n",
       "</div>"
      ],
      "text/plain": [
       "                Name  Age                                            Photo  \\\n",
       "0  Cristiano Ronaldo   32   https://cdn.sofifa.org/48/18/players/20801.png   \n",
       "1           L. Messi   30  https://cdn.sofifa.org/48/18/players/158023.png   \n",
       "2             Neymar   25  https://cdn.sofifa.org/48/18/players/190871.png   \n",
       "3          L. Suárez   30  https://cdn.sofifa.org/48/18/players/176580.png   \n",
       "4           M. Neuer   31  https://cdn.sofifa.org/48/18/players/167495.png   \n",
       "\n",
       "  Nationality                                 Flag  Overall  Potential  \\\n",
       "0    Portugal  https://cdn.sofifa.org/flags/38.png       94         94   \n",
       "1   Argentina  https://cdn.sofifa.org/flags/52.png       93         93   \n",
       "2      Brazil  https://cdn.sofifa.org/flags/54.png       92         94   \n",
       "3     Uruguay  https://cdn.sofifa.org/flags/60.png       92         92   \n",
       "4     Germany  https://cdn.sofifa.org/flags/21.png       92         92   \n",
       "\n",
       "                  Club                                   Club Logo   Value  \\\n",
       "0       Real Madrid CF  https://cdn.sofifa.org/24/18/teams/243.png  €95.5M   \n",
       "1         FC Barcelona  https://cdn.sofifa.org/24/18/teams/241.png   €105M   \n",
       "2  Paris Saint-Germain   https://cdn.sofifa.org/24/18/teams/73.png   €123M   \n",
       "3         FC Barcelona  https://cdn.sofifa.org/24/18/teams/241.png    €97M   \n",
       "4     FC Bayern Munich   https://cdn.sofifa.org/24/18/teams/21.png    €61M   \n",
       "\n",
       "   ...     RB   RCB   RCM   RDM    RF    RM    RS    RW   RWB    ST  \n",
       "0  ...   61.0  53.0  82.0  62.0  91.0  89.0  92.0  91.0  66.0  92.0  \n",
       "1  ...   57.0  45.0  84.0  59.0  92.0  90.0  88.0  91.0  62.0  88.0  \n",
       "2  ...   59.0  46.0  79.0  59.0  88.0  87.0  84.0  89.0  64.0  84.0  \n",
       "3  ...   64.0  58.0  80.0  65.0  88.0  85.0  88.0  87.0  68.0  88.0  \n",
       "4  ...    NaN   NaN   NaN   NaN   NaN   NaN   NaN   NaN   NaN   NaN  \n",
       "\n",
       "[5 rows x 74 columns]"
      ]
     },
     "execution_count": 101,
     "metadata": {},
     "output_type": "execute_result"
    }
   ],
   "source": [
    "players_data = pd.read_csv(\"data/football_players_data.csv\", low_memory=False,dtype = col_types)\n",
    "players_data = players_data.drop(\"Unnamed: 0\",axis=1)\n",
    "print(players_data.shape)\n",
    "players_data.head()"
   ]
  },
  {
   "cell_type": "markdown",
   "metadata": {},
   "source": [
    "This dataset has a lot of columns."
   ]
  },
  {
   "cell_type": "code",
   "execution_count": 102,
   "metadata": {},
   "outputs": [
    {
     "data": {
      "text/plain": [
       "Index(['Name', 'Age', 'Photo', 'Nationality', 'Flag', 'Overall', 'Potential',\n",
       "       'Club', 'Club Logo', 'Value', 'Wage', 'Special', 'Acceleration',\n",
       "       'Aggression', 'Agility', 'Balance', 'Ball control', 'Composure',\n",
       "       'Crossing', 'Curve', 'Dribbling', 'Finishing', 'Free kick accuracy',\n",
       "       'GK diving', 'GK handling', 'GK kicking', 'GK positioning',\n",
       "       'GK reflexes', 'Heading accuracy', 'Interceptions', 'Jumping',\n",
       "       'Long passing', 'Long shots', 'Marking', 'Penalties', 'Positioning',\n",
       "       'Reactions', 'Short passing', 'Shot power', 'Sliding tackle',\n",
       "       'Sprint speed', 'Stamina', 'Standing tackle', 'Strength', 'Vision',\n",
       "       'Volleys', 'CAM', 'CB', 'CDM', 'CF', 'CM', 'ID', 'LAM', 'LB', 'LCB',\n",
       "       'LCM', 'LDM', 'LF', 'LM', 'LS', 'LW', 'LWB', 'Preferred Positions',\n",
       "       'RAM', 'RB', 'RCB', 'RCM', 'RDM', 'RF', 'RM', 'RS', 'RW', 'RWB', 'ST'],\n",
       "      dtype='object')"
      ]
     },
     "execution_count": 102,
     "metadata": {},
     "output_type": "execute_result"
    }
   ],
   "source": [
    "players_data.columns"
   ]
  },
  {
   "cell_type": "markdown",
   "metadata": {},
   "source": [
    "In the value column we have characters, not only numbers, we will remove the euro sign, M(millions) and K(thousands). "
   ]
  },
  {
   "cell_type": "code",
   "execution_count": 103,
   "metadata": {},
   "outputs": [],
   "source": [
    "players_data.Value = players_data.Value.str.replace('€','')\n",
    "\n",
    "def parseValue(strVal):\n",
    "    \"\"\"\n",
    "    Parse string with M or K to numeric values\n",
    "    \"\"\"\n",
    "    if 'M' in strVal:\n",
    "        return int(float(strVal.replace('M', '')) * 1000000)\n",
    "    elif 'K' in strVal:\n",
    "        return int(float(strVal.replace('K', '')) * 1000)\n",
    "    else:\n",
    "        return int(strVal)\n",
    "    \n",
    "players_data['Value'] = players_data['Value'].apply(lambda x: parseValue(x))"
   ]
  },
  {
   "cell_type": "code",
   "execution_count": 104,
   "metadata": {},
   "outputs": [
    {
     "data": {
      "text/html": [
       "<div>\n",
       "<style scoped>\n",
       "    .dataframe tbody tr th:only-of-type {\n",
       "        vertical-align: middle;\n",
       "    }\n",
       "\n",
       "    .dataframe tbody tr th {\n",
       "        vertical-align: top;\n",
       "    }\n",
       "\n",
       "    .dataframe thead th {\n",
       "        text-align: right;\n",
       "    }\n",
       "</style>\n",
       "<table border=\"1\" class=\"dataframe\">\n",
       "  <thead>\n",
       "    <tr style=\"text-align: right;\">\n",
       "      <th></th>\n",
       "      <th>Name</th>\n",
       "      <th>Age</th>\n",
       "      <th>Photo</th>\n",
       "      <th>Nationality</th>\n",
       "      <th>Flag</th>\n",
       "      <th>Overall</th>\n",
       "      <th>Potential</th>\n",
       "      <th>Club</th>\n",
       "      <th>Club Logo</th>\n",
       "      <th>Value</th>\n",
       "      <th>...</th>\n",
       "      <th>RB</th>\n",
       "      <th>RCB</th>\n",
       "      <th>RCM</th>\n",
       "      <th>RDM</th>\n",
       "      <th>RF</th>\n",
       "      <th>RM</th>\n",
       "      <th>RS</th>\n",
       "      <th>RW</th>\n",
       "      <th>RWB</th>\n",
       "      <th>ST</th>\n",
       "    </tr>\n",
       "  </thead>\n",
       "  <tbody>\n",
       "    <tr>\n",
       "      <th>0</th>\n",
       "      <td>Cristiano Ronaldo</td>\n",
       "      <td>32</td>\n",
       "      <td>https://cdn.sofifa.org/48/18/players/20801.png</td>\n",
       "      <td>Portugal</td>\n",
       "      <td>https://cdn.sofifa.org/flags/38.png</td>\n",
       "      <td>94</td>\n",
       "      <td>94</td>\n",
       "      <td>Real Madrid CF</td>\n",
       "      <td>https://cdn.sofifa.org/24/18/teams/243.png</td>\n",
       "      <td>95500000</td>\n",
       "      <td>...</td>\n",
       "      <td>61.0</td>\n",
       "      <td>53.0</td>\n",
       "      <td>82.0</td>\n",
       "      <td>62.0</td>\n",
       "      <td>91.0</td>\n",
       "      <td>89.0</td>\n",
       "      <td>92.0</td>\n",
       "      <td>91.0</td>\n",
       "      <td>66.0</td>\n",
       "      <td>92.0</td>\n",
       "    </tr>\n",
       "    <tr>\n",
       "      <th>1</th>\n",
       "      <td>L. Messi</td>\n",
       "      <td>30</td>\n",
       "      <td>https://cdn.sofifa.org/48/18/players/158023.png</td>\n",
       "      <td>Argentina</td>\n",
       "      <td>https://cdn.sofifa.org/flags/52.png</td>\n",
       "      <td>93</td>\n",
       "      <td>93</td>\n",
       "      <td>FC Barcelona</td>\n",
       "      <td>https://cdn.sofifa.org/24/18/teams/241.png</td>\n",
       "      <td>105000000</td>\n",
       "      <td>...</td>\n",
       "      <td>57.0</td>\n",
       "      <td>45.0</td>\n",
       "      <td>84.0</td>\n",
       "      <td>59.0</td>\n",
       "      <td>92.0</td>\n",
       "      <td>90.0</td>\n",
       "      <td>88.0</td>\n",
       "      <td>91.0</td>\n",
       "      <td>62.0</td>\n",
       "      <td>88.0</td>\n",
       "    </tr>\n",
       "    <tr>\n",
       "      <th>2</th>\n",
       "      <td>Neymar</td>\n",
       "      <td>25</td>\n",
       "      <td>https://cdn.sofifa.org/48/18/players/190871.png</td>\n",
       "      <td>Brazil</td>\n",
       "      <td>https://cdn.sofifa.org/flags/54.png</td>\n",
       "      <td>92</td>\n",
       "      <td>94</td>\n",
       "      <td>Paris Saint-Germain</td>\n",
       "      <td>https://cdn.sofifa.org/24/18/teams/73.png</td>\n",
       "      <td>123000000</td>\n",
       "      <td>...</td>\n",
       "      <td>59.0</td>\n",
       "      <td>46.0</td>\n",
       "      <td>79.0</td>\n",
       "      <td>59.0</td>\n",
       "      <td>88.0</td>\n",
       "      <td>87.0</td>\n",
       "      <td>84.0</td>\n",
       "      <td>89.0</td>\n",
       "      <td>64.0</td>\n",
       "      <td>84.0</td>\n",
       "    </tr>\n",
       "    <tr>\n",
       "      <th>3</th>\n",
       "      <td>L. Suárez</td>\n",
       "      <td>30</td>\n",
       "      <td>https://cdn.sofifa.org/48/18/players/176580.png</td>\n",
       "      <td>Uruguay</td>\n",
       "      <td>https://cdn.sofifa.org/flags/60.png</td>\n",
       "      <td>92</td>\n",
       "      <td>92</td>\n",
       "      <td>FC Barcelona</td>\n",
       "      <td>https://cdn.sofifa.org/24/18/teams/241.png</td>\n",
       "      <td>97000000</td>\n",
       "      <td>...</td>\n",
       "      <td>64.0</td>\n",
       "      <td>58.0</td>\n",
       "      <td>80.0</td>\n",
       "      <td>65.0</td>\n",
       "      <td>88.0</td>\n",
       "      <td>85.0</td>\n",
       "      <td>88.0</td>\n",
       "      <td>87.0</td>\n",
       "      <td>68.0</td>\n",
       "      <td>88.0</td>\n",
       "    </tr>\n",
       "    <tr>\n",
       "      <th>4</th>\n",
       "      <td>M. Neuer</td>\n",
       "      <td>31</td>\n",
       "      <td>https://cdn.sofifa.org/48/18/players/167495.png</td>\n",
       "      <td>Germany</td>\n",
       "      <td>https://cdn.sofifa.org/flags/21.png</td>\n",
       "      <td>92</td>\n",
       "      <td>92</td>\n",
       "      <td>FC Bayern Munich</td>\n",
       "      <td>https://cdn.sofifa.org/24/18/teams/21.png</td>\n",
       "      <td>61000000</td>\n",
       "      <td>...</td>\n",
       "      <td>NaN</td>\n",
       "      <td>NaN</td>\n",
       "      <td>NaN</td>\n",
       "      <td>NaN</td>\n",
       "      <td>NaN</td>\n",
       "      <td>NaN</td>\n",
       "      <td>NaN</td>\n",
       "      <td>NaN</td>\n",
       "      <td>NaN</td>\n",
       "      <td>NaN</td>\n",
       "    </tr>\n",
       "  </tbody>\n",
       "</table>\n",
       "<p>5 rows × 74 columns</p>\n",
       "</div>"
      ],
      "text/plain": [
       "                Name  Age                                            Photo  \\\n",
       "0  Cristiano Ronaldo   32   https://cdn.sofifa.org/48/18/players/20801.png   \n",
       "1           L. Messi   30  https://cdn.sofifa.org/48/18/players/158023.png   \n",
       "2             Neymar   25  https://cdn.sofifa.org/48/18/players/190871.png   \n",
       "3          L. Suárez   30  https://cdn.sofifa.org/48/18/players/176580.png   \n",
       "4           M. Neuer   31  https://cdn.sofifa.org/48/18/players/167495.png   \n",
       "\n",
       "  Nationality                                 Flag  Overall  Potential  \\\n",
       "0    Portugal  https://cdn.sofifa.org/flags/38.png       94         94   \n",
       "1   Argentina  https://cdn.sofifa.org/flags/52.png       93         93   \n",
       "2      Brazil  https://cdn.sofifa.org/flags/54.png       92         94   \n",
       "3     Uruguay  https://cdn.sofifa.org/flags/60.png       92         92   \n",
       "4     Germany  https://cdn.sofifa.org/flags/21.png       92         92   \n",
       "\n",
       "                  Club                                   Club Logo      Value  \\\n",
       "0       Real Madrid CF  https://cdn.sofifa.org/24/18/teams/243.png   95500000   \n",
       "1         FC Barcelona  https://cdn.sofifa.org/24/18/teams/241.png  105000000   \n",
       "2  Paris Saint-Germain   https://cdn.sofifa.org/24/18/teams/73.png  123000000   \n",
       "3         FC Barcelona  https://cdn.sofifa.org/24/18/teams/241.png   97000000   \n",
       "4     FC Bayern Munich   https://cdn.sofifa.org/24/18/teams/21.png   61000000   \n",
       "\n",
       "   ...     RB   RCB   RCM   RDM    RF    RM    RS    RW   RWB    ST  \n",
       "0  ...   61.0  53.0  82.0  62.0  91.0  89.0  92.0  91.0  66.0  92.0  \n",
       "1  ...   57.0  45.0  84.0  59.0  92.0  90.0  88.0  91.0  62.0  88.0  \n",
       "2  ...   59.0  46.0  79.0  59.0  88.0  87.0  84.0  89.0  64.0  84.0  \n",
       "3  ...   64.0  58.0  80.0  65.0  88.0  85.0  88.0  87.0  68.0  88.0  \n",
       "4  ...    NaN   NaN   NaN   NaN   NaN   NaN   NaN   NaN   NaN   NaN  \n",
       "\n",
       "[5 rows x 74 columns]"
      ]
     },
     "execution_count": 104,
     "metadata": {},
     "output_type": "execute_result"
    }
   ],
   "source": [
    "players_data.head()"
   ]
  },
  {
   "cell_type": "markdown",
   "metadata": {},
   "source": [
    "Now is better. Let now check for invalid value. An invalid value is a value smaller than or equal to 0. If we don't remove such values they can \"break\" the training models for example - they can cause overfitting. We are going to get only the players with positive value."
   ]
  },
  {
   "cell_type": "code",
   "execution_count": 105,
   "metadata": {},
   "outputs": [
    {
     "data": {
      "text/plain": [
       "(17725, 74)"
      ]
     },
     "execution_count": 105,
     "metadata": {},
     "output_type": "execute_result"
    }
   ],
   "source": [
    "players_data = players_data.loc[players_data.Value > 0]\n",
    "players_data.shape"
   ]
  },
  {
   "cell_type": "markdown",
   "metadata": {},
   "source": [
    "We have removed over 200 invalid for our case entries. Let's now make the same thing but for the players overall."
   ]
  },
  {
   "cell_type": "code",
   "execution_count": 106,
   "metadata": {},
   "outputs": [
    {
     "data": {
      "text/plain": [
       "(17725, 74)"
      ]
     },
     "execution_count": 106,
     "metadata": {},
     "output_type": "execute_result"
    }
   ],
   "source": [
    "players_data = players_data.loc[players_data.Overall > 0]\n",
    "players_data.shape"
   ]
  },
  {
   "cell_type": "markdown",
   "metadata": {},
   "source": [
    "The Overall is valid. Let's now remove all non-numeric entries from the skills columns."
   ]
  },
  {
   "cell_type": "code",
   "execution_count": 107,
   "metadata": {},
   "outputs": [],
   "source": [
    "def remove_non_numeric_entries(dataset, column):\n",
    "    \"\"\"\n",
    "    Remove all non-numeric entries in the column of the dataset\n",
    "    \"\"\"\n",
    "    def between_1_and_99(s):\n",
    "        try:\n",
    "            n = int(s)\n",
    "            return (1 <= n and n <= 99)\n",
    "        except ValueError:\n",
    "            return False\n",
    "        \n",
    "    dataset = dataset.loc[players_data[column].apply(lambda x: between_1_and_99(x))]\n",
    " \n",
    "    dataset[column] = dataset[column].astype('int')\n",
    "    \n",
    "    return dataset"
   ]
  },
  {
   "cell_type": "code",
   "execution_count": 108,
   "metadata": {},
   "outputs": [],
   "source": [
    "skills = ['Acceleration',\n",
    "       'Aggression', 'Agility', 'Balance', 'Composure',\n",
    "       'Crossing', 'Curve', 'Dribbling', 'Finishing', 'Ball control','Free kick accuracy',\n",
    "       'GK diving', 'GK handling', 'GK kicking', 'GK positioning',\n",
    "       'GK reflexes', 'Heading accuracy', 'Interceptions', 'Jumping',\n",
    "       'Long passing', 'Long shots', 'Marking', 'Penalties', 'Positioning','Reactions', 'Short passing', 'Shot power', 'Sliding tackle',\n",
    "       'Sprint speed','Stamina', 'Standing tackle', 'Strength', 'Vision',\n",
    "       'Volleys']\n",
    "\n",
    "for skill in skills:\n",
    "    players_data = remove_non_numeric_entries(players_data,skill)"
   ]
  },
  {
   "cell_type": "markdown",
   "metadata": {},
   "source": [
    "Now all skill columns are int type. I think that for now this cleaning process is enough and now we can go to the data analysis."
   ]
  },
  {
   "cell_type": "markdown",
   "metadata": {},
   "source": [
    "### Data analysis(Descriptive analysis)\n",
    "\n",
    "Now that the data is ready, before we start applying machine learning algorithms, a good approach is to first explore, play with, and query the data to get to know it better. The main objective here is to have a very good understanding of our data. If you skip this phase, you’ll feel like you’re on a blind date with it later :). So, let’s explore the data and get to know what we’re working with!"
   ]
  },
  {
   "cell_type": "code",
   "execution_count": 109,
   "metadata": {},
   "outputs": [
    {
     "data": {
      "text/html": [
       "<div>\n",
       "<style scoped>\n",
       "    .dataframe tbody tr th:only-of-type {\n",
       "        vertical-align: middle;\n",
       "    }\n",
       "\n",
       "    .dataframe tbody tr th {\n",
       "        vertical-align: top;\n",
       "    }\n",
       "\n",
       "    .dataframe thead th {\n",
       "        text-align: right;\n",
       "    }\n",
       "</style>\n",
       "<table border=\"1\" class=\"dataframe\">\n",
       "  <thead>\n",
       "    <tr style=\"text-align: right;\">\n",
       "      <th></th>\n",
       "      <th>Age</th>\n",
       "      <th>Overall</th>\n",
       "      <th>Potential</th>\n",
       "      <th>Value</th>\n",
       "      <th>Special</th>\n",
       "      <th>Acceleration</th>\n",
       "      <th>Aggression</th>\n",
       "      <th>Agility</th>\n",
       "      <th>Balance</th>\n",
       "      <th>Ball control</th>\n",
       "      <th>...</th>\n",
       "      <th>RB</th>\n",
       "      <th>RCB</th>\n",
       "      <th>RCM</th>\n",
       "      <th>RDM</th>\n",
       "      <th>RF</th>\n",
       "      <th>RM</th>\n",
       "      <th>RS</th>\n",
       "      <th>RW</th>\n",
       "      <th>RWB</th>\n",
       "      <th>ST</th>\n",
       "    </tr>\n",
       "  </thead>\n",
       "  <tbody>\n",
       "    <tr>\n",
       "      <th>count</th>\n",
       "      <td>17068.000000</td>\n",
       "      <td>17068.000000</td>\n",
       "      <td>17068.000000</td>\n",
       "      <td>1.706800e+04</td>\n",
       "      <td>17068.000000</td>\n",
       "      <td>17068.000000</td>\n",
       "      <td>17068.000000</td>\n",
       "      <td>17068.000000</td>\n",
       "      <td>17068.000000</td>\n",
       "      <td>17068.000000</td>\n",
       "      <td>...</td>\n",
       "      <td>15143.000000</td>\n",
       "      <td>15143.000000</td>\n",
       "      <td>15143.000000</td>\n",
       "      <td>15143.000000</td>\n",
       "      <td>15143.000000</td>\n",
       "      <td>15143.000000</td>\n",
       "      <td>15143.000000</td>\n",
       "      <td>15143.000000</td>\n",
       "      <td>15143.000000</td>\n",
       "      <td>15143.000000</td>\n",
       "    </tr>\n",
       "    <tr>\n",
       "      <th>mean</th>\n",
       "      <td>25.107160</td>\n",
       "      <td>66.179927</td>\n",
       "      <td>71.167624</td>\n",
       "      <td>2.397471e+06</td>\n",
       "      <td>1592.323119</td>\n",
       "      <td>64.495430</td>\n",
       "      <td>55.751582</td>\n",
       "      <td>63.304078</td>\n",
       "      <td>63.765878</td>\n",
       "      <td>58.067143</td>\n",
       "      <td>...</td>\n",
       "      <td>56.912963</td>\n",
       "      <td>55.489401</td>\n",
       "      <td>58.440600</td>\n",
       "      <td>56.801294</td>\n",
       "      <td>58.960972</td>\n",
       "      <td>59.987123</td>\n",
       "      <td>58.137093</td>\n",
       "      <td>59.292082</td>\n",
       "      <td>57.631447</td>\n",
       "      <td>58.137093</td>\n",
       "    </tr>\n",
       "    <tr>\n",
       "      <th>std</th>\n",
       "      <td>4.607072</td>\n",
       "      <td>7.005938</td>\n",
       "      <td>6.083863</td>\n",
       "      <td>5.414937e+06</td>\n",
       "      <td>271.922785</td>\n",
       "      <td>14.937382</td>\n",
       "      <td>17.473375</td>\n",
       "      <td>14.793807</td>\n",
       "      <td>14.139986</td>\n",
       "      <td>16.785885</td>\n",
       "      <td>...</td>\n",
       "      <td>9.796763</td>\n",
       "      <td>12.205490</td>\n",
       "      <td>8.872653</td>\n",
       "      <td>10.313374</td>\n",
       "      <td>9.909756</td>\n",
       "      <td>9.339452</td>\n",
       "      <td>9.160414</td>\n",
       "      <td>9.967127</td>\n",
       "      <td>9.145452</td>\n",
       "      <td>9.160414</td>\n",
       "    </tr>\n",
       "    <tr>\n",
       "      <th>min</th>\n",
       "      <td>16.000000</td>\n",
       "      <td>46.000000</td>\n",
       "      <td>46.000000</td>\n",
       "      <td>1.000000e+04</td>\n",
       "      <td>728.000000</td>\n",
       "      <td>11.000000</td>\n",
       "      <td>11.000000</td>\n",
       "      <td>14.000000</td>\n",
       "      <td>11.000000</td>\n",
       "      <td>8.000000</td>\n",
       "      <td>...</td>\n",
       "      <td>30.000000</td>\n",
       "      <td>25.000000</td>\n",
       "      <td>30.000000</td>\n",
       "      <td>26.000000</td>\n",
       "      <td>27.000000</td>\n",
       "      <td>28.000000</td>\n",
       "      <td>31.000000</td>\n",
       "      <td>26.000000</td>\n",
       "      <td>31.000000</td>\n",
       "      <td>31.000000</td>\n",
       "    </tr>\n",
       "    <tr>\n",
       "      <th>25%</th>\n",
       "      <td>21.000000</td>\n",
       "      <td>62.000000</td>\n",
       "      <td>67.000000</td>\n",
       "      <td>3.250000e+05</td>\n",
       "      <td>1447.000000</td>\n",
       "      <td>56.000000</td>\n",
       "      <td>43.000000</td>\n",
       "      <td>55.000000</td>\n",
       "      <td>55.000000</td>\n",
       "      <td>53.000000</td>\n",
       "      <td>...</td>\n",
       "      <td>50.000000</td>\n",
       "      <td>45.000000</td>\n",
       "      <td>52.000000</td>\n",
       "      <td>49.000000</td>\n",
       "      <td>53.000000</td>\n",
       "      <td>54.000000</td>\n",
       "      <td>52.000000</td>\n",
       "      <td>53.000000</td>\n",
       "      <td>51.000000</td>\n",
       "      <td>52.000000</td>\n",
       "    </tr>\n",
       "    <tr>\n",
       "      <th>50%</th>\n",
       "      <td>25.000000</td>\n",
       "      <td>66.000000</td>\n",
       "      <td>71.000000</td>\n",
       "      <td>7.000000e+05</td>\n",
       "      <td>1632.000000</td>\n",
       "      <td>67.000000</td>\n",
       "      <td>59.000000</td>\n",
       "      <td>65.000000</td>\n",
       "      <td>66.000000</td>\n",
       "      <td>63.000000</td>\n",
       "      <td>...</td>\n",
       "      <td>58.000000</td>\n",
       "      <td>57.000000</td>\n",
       "      <td>59.000000</td>\n",
       "      <td>58.000000</td>\n",
       "      <td>60.000000</td>\n",
       "      <td>61.000000</td>\n",
       "      <td>59.000000</td>\n",
       "      <td>60.000000</td>\n",
       "      <td>58.000000</td>\n",
       "      <td>59.000000</td>\n",
       "    </tr>\n",
       "    <tr>\n",
       "      <th>75%</th>\n",
       "      <td>28.000000</td>\n",
       "      <td>71.000000</td>\n",
       "      <td>75.000000</td>\n",
       "      <td>2.100000e+06</td>\n",
       "      <td>1784.000000</td>\n",
       "      <td>75.000000</td>\n",
       "      <td>69.000000</td>\n",
       "      <td>74.000000</td>\n",
       "      <td>74.000000</td>\n",
       "      <td>69.000000</td>\n",
       "      <td>...</td>\n",
       "      <td>64.000000</td>\n",
       "      <td>65.000000</td>\n",
       "      <td>65.000000</td>\n",
       "      <td>65.000000</td>\n",
       "      <td>66.000000</td>\n",
       "      <td>66.000000</td>\n",
       "      <td>65.000000</td>\n",
       "      <td>66.000000</td>\n",
       "      <td>64.000000</td>\n",
       "      <td>65.000000</td>\n",
       "    </tr>\n",
       "    <tr>\n",
       "      <th>max</th>\n",
       "      <td>44.000000</td>\n",
       "      <td>94.000000</td>\n",
       "      <td>94.000000</td>\n",
       "      <td>1.230000e+08</td>\n",
       "      <td>2291.000000</td>\n",
       "      <td>96.000000</td>\n",
       "      <td>96.000000</td>\n",
       "      <td>96.000000</td>\n",
       "      <td>96.000000</td>\n",
       "      <td>95.000000</td>\n",
       "      <td>...</td>\n",
       "      <td>84.000000</td>\n",
       "      <td>87.000000</td>\n",
       "      <td>87.000000</td>\n",
       "      <td>85.000000</td>\n",
       "      <td>92.000000</td>\n",
       "      <td>90.000000</td>\n",
       "      <td>92.000000</td>\n",
       "      <td>91.000000</td>\n",
       "      <td>84.000000</td>\n",
       "      <td>92.000000</td>\n",
       "    </tr>\n",
       "  </tbody>\n",
       "</table>\n",
       "<p>8 rows × 66 columns</p>\n",
       "</div>"
      ],
      "text/plain": [
       "                Age       Overall     Potential         Value       Special  \\\n",
       "count  17068.000000  17068.000000  17068.000000  1.706800e+04  17068.000000   \n",
       "mean      25.107160     66.179927     71.167624  2.397471e+06   1592.323119   \n",
       "std        4.607072      7.005938      6.083863  5.414937e+06    271.922785   \n",
       "min       16.000000     46.000000     46.000000  1.000000e+04    728.000000   \n",
       "25%       21.000000     62.000000     67.000000  3.250000e+05   1447.000000   \n",
       "50%       25.000000     66.000000     71.000000  7.000000e+05   1632.000000   \n",
       "75%       28.000000     71.000000     75.000000  2.100000e+06   1784.000000   \n",
       "max       44.000000     94.000000     94.000000  1.230000e+08   2291.000000   \n",
       "\n",
       "       Acceleration    Aggression       Agility       Balance  Ball control  \\\n",
       "count  17068.000000  17068.000000  17068.000000  17068.000000  17068.000000   \n",
       "mean      64.495430     55.751582     63.304078     63.765878     58.067143   \n",
       "std       14.937382     17.473375     14.793807     14.139986     16.785885   \n",
       "min       11.000000     11.000000     14.000000     11.000000      8.000000   \n",
       "25%       56.000000     43.000000     55.000000     55.000000     53.000000   \n",
       "50%       67.000000     59.000000     65.000000     66.000000     63.000000   \n",
       "75%       75.000000     69.000000     74.000000     74.000000     69.000000   \n",
       "max       96.000000     96.000000     96.000000     96.000000     95.000000   \n",
       "\n",
       "           ...                 RB           RCB           RCM           RDM  \\\n",
       "count      ...       15143.000000  15143.000000  15143.000000  15143.000000   \n",
       "mean       ...          56.912963     55.489401     58.440600     56.801294   \n",
       "std        ...           9.796763     12.205490      8.872653     10.313374   \n",
       "min        ...          30.000000     25.000000     30.000000     26.000000   \n",
       "25%        ...          50.000000     45.000000     52.000000     49.000000   \n",
       "50%        ...          58.000000     57.000000     59.000000     58.000000   \n",
       "75%        ...          64.000000     65.000000     65.000000     65.000000   \n",
       "max        ...          84.000000     87.000000     87.000000     85.000000   \n",
       "\n",
       "                 RF            RM            RS            RW           RWB  \\\n",
       "count  15143.000000  15143.000000  15143.000000  15143.000000  15143.000000   \n",
       "mean      58.960972     59.987123     58.137093     59.292082     57.631447   \n",
       "std        9.909756      9.339452      9.160414      9.967127      9.145452   \n",
       "min       27.000000     28.000000     31.000000     26.000000     31.000000   \n",
       "25%       53.000000     54.000000     52.000000     53.000000     51.000000   \n",
       "50%       60.000000     61.000000     59.000000     60.000000     58.000000   \n",
       "75%       66.000000     66.000000     65.000000     66.000000     64.000000   \n",
       "max       92.000000     90.000000     92.000000     91.000000     84.000000   \n",
       "\n",
       "                 ST  \n",
       "count  15143.000000  \n",
       "mean      58.137093  \n",
       "std        9.160414  \n",
       "min       31.000000  \n",
       "25%       52.000000  \n",
       "50%       59.000000  \n",
       "75%       65.000000  \n",
       "max       92.000000  \n",
       "\n",
       "[8 rows x 66 columns]"
      ]
     },
     "execution_count": 109,
     "metadata": {},
     "output_type": "execute_result"
    }
   ],
   "source": [
    "players_data.describe()"
   ]
  },
  {
   "cell_type": "markdown",
   "metadata": {},
   "source": [
    "Let's check which are the ten best players in this dataset and in the world and which are the ten worst players in this dataset."
   ]
  },
  {
   "cell_type": "code",
   "execution_count": 110,
   "metadata": {},
   "outputs": [
    {
     "data": {
      "text/html": [
       "<div>\n",
       "<style scoped>\n",
       "    .dataframe tbody tr th:only-of-type {\n",
       "        vertical-align: middle;\n",
       "    }\n",
       "\n",
       "    .dataframe tbody tr th {\n",
       "        vertical-align: top;\n",
       "    }\n",
       "\n",
       "    .dataframe thead th {\n",
       "        text-align: right;\n",
       "    }\n",
       "</style>\n",
       "<table border=\"1\" class=\"dataframe\">\n",
       "  <thead>\n",
       "    <tr style=\"text-align: right;\">\n",
       "      <th></th>\n",
       "      <th>Name</th>\n",
       "      <th>Age</th>\n",
       "      <th>Photo</th>\n",
       "      <th>Nationality</th>\n",
       "      <th>Flag</th>\n",
       "      <th>Overall</th>\n",
       "      <th>Potential</th>\n",
       "      <th>Club</th>\n",
       "      <th>Club Logo</th>\n",
       "      <th>Value</th>\n",
       "      <th>...</th>\n",
       "      <th>RB</th>\n",
       "      <th>RCB</th>\n",
       "      <th>RCM</th>\n",
       "      <th>RDM</th>\n",
       "      <th>RF</th>\n",
       "      <th>RM</th>\n",
       "      <th>RS</th>\n",
       "      <th>RW</th>\n",
       "      <th>RWB</th>\n",
       "      <th>ST</th>\n",
       "    </tr>\n",
       "  </thead>\n",
       "  <tbody>\n",
       "    <tr>\n",
       "      <th>0</th>\n",
       "      <td>Cristiano Ronaldo</td>\n",
       "      <td>32</td>\n",
       "      <td>https://cdn.sofifa.org/48/18/players/20801.png</td>\n",
       "      <td>Portugal</td>\n",
       "      <td>https://cdn.sofifa.org/flags/38.png</td>\n",
       "      <td>94</td>\n",
       "      <td>94</td>\n",
       "      <td>Real Madrid CF</td>\n",
       "      <td>https://cdn.sofifa.org/24/18/teams/243.png</td>\n",
       "      <td>95500000</td>\n",
       "      <td>...</td>\n",
       "      <td>61.0</td>\n",
       "      <td>53.0</td>\n",
       "      <td>82.0</td>\n",
       "      <td>62.0</td>\n",
       "      <td>91.0</td>\n",
       "      <td>89.0</td>\n",
       "      <td>92.0</td>\n",
       "      <td>91.0</td>\n",
       "      <td>66.0</td>\n",
       "      <td>92.0</td>\n",
       "    </tr>\n",
       "    <tr>\n",
       "      <th>1</th>\n",
       "      <td>L. Messi</td>\n",
       "      <td>30</td>\n",
       "      <td>https://cdn.sofifa.org/48/18/players/158023.png</td>\n",
       "      <td>Argentina</td>\n",
       "      <td>https://cdn.sofifa.org/flags/52.png</td>\n",
       "      <td>93</td>\n",
       "      <td>93</td>\n",
       "      <td>FC Barcelona</td>\n",
       "      <td>https://cdn.sofifa.org/24/18/teams/241.png</td>\n",
       "      <td>105000000</td>\n",
       "      <td>...</td>\n",
       "      <td>57.0</td>\n",
       "      <td>45.0</td>\n",
       "      <td>84.0</td>\n",
       "      <td>59.0</td>\n",
       "      <td>92.0</td>\n",
       "      <td>90.0</td>\n",
       "      <td>88.0</td>\n",
       "      <td>91.0</td>\n",
       "      <td>62.0</td>\n",
       "      <td>88.0</td>\n",
       "    </tr>\n",
       "    <tr>\n",
       "      <th>2</th>\n",
       "      <td>Neymar</td>\n",
       "      <td>25</td>\n",
       "      <td>https://cdn.sofifa.org/48/18/players/190871.png</td>\n",
       "      <td>Brazil</td>\n",
       "      <td>https://cdn.sofifa.org/flags/54.png</td>\n",
       "      <td>92</td>\n",
       "      <td>94</td>\n",
       "      <td>Paris Saint-Germain</td>\n",
       "      <td>https://cdn.sofifa.org/24/18/teams/73.png</td>\n",
       "      <td>123000000</td>\n",
       "      <td>...</td>\n",
       "      <td>59.0</td>\n",
       "      <td>46.0</td>\n",
       "      <td>79.0</td>\n",
       "      <td>59.0</td>\n",
       "      <td>88.0</td>\n",
       "      <td>87.0</td>\n",
       "      <td>84.0</td>\n",
       "      <td>89.0</td>\n",
       "      <td>64.0</td>\n",
       "      <td>84.0</td>\n",
       "    </tr>\n",
       "    <tr>\n",
       "      <th>3</th>\n",
       "      <td>L. Suárez</td>\n",
       "      <td>30</td>\n",
       "      <td>https://cdn.sofifa.org/48/18/players/176580.png</td>\n",
       "      <td>Uruguay</td>\n",
       "      <td>https://cdn.sofifa.org/flags/60.png</td>\n",
       "      <td>92</td>\n",
       "      <td>92</td>\n",
       "      <td>FC Barcelona</td>\n",
       "      <td>https://cdn.sofifa.org/24/18/teams/241.png</td>\n",
       "      <td>97000000</td>\n",
       "      <td>...</td>\n",
       "      <td>64.0</td>\n",
       "      <td>58.0</td>\n",
       "      <td>80.0</td>\n",
       "      <td>65.0</td>\n",
       "      <td>88.0</td>\n",
       "      <td>85.0</td>\n",
       "      <td>88.0</td>\n",
       "      <td>87.0</td>\n",
       "      <td>68.0</td>\n",
       "      <td>88.0</td>\n",
       "    </tr>\n",
       "    <tr>\n",
       "      <th>4</th>\n",
       "      <td>M. Neuer</td>\n",
       "      <td>31</td>\n",
       "      <td>https://cdn.sofifa.org/48/18/players/167495.png</td>\n",
       "      <td>Germany</td>\n",
       "      <td>https://cdn.sofifa.org/flags/21.png</td>\n",
       "      <td>92</td>\n",
       "      <td>92</td>\n",
       "      <td>FC Bayern Munich</td>\n",
       "      <td>https://cdn.sofifa.org/24/18/teams/21.png</td>\n",
       "      <td>61000000</td>\n",
       "      <td>...</td>\n",
       "      <td>NaN</td>\n",
       "      <td>NaN</td>\n",
       "      <td>NaN</td>\n",
       "      <td>NaN</td>\n",
       "      <td>NaN</td>\n",
       "      <td>NaN</td>\n",
       "      <td>NaN</td>\n",
       "      <td>NaN</td>\n",
       "      <td>NaN</td>\n",
       "      <td>NaN</td>\n",
       "    </tr>\n",
       "    <tr>\n",
       "      <th>5</th>\n",
       "      <td>R. Lewandowski</td>\n",
       "      <td>28</td>\n",
       "      <td>https://cdn.sofifa.org/48/18/players/188545.png</td>\n",
       "      <td>Poland</td>\n",
       "      <td>https://cdn.sofifa.org/flags/37.png</td>\n",
       "      <td>91</td>\n",
       "      <td>91</td>\n",
       "      <td>FC Bayern Munich</td>\n",
       "      <td>https://cdn.sofifa.org/24/18/teams/21.png</td>\n",
       "      <td>92000000</td>\n",
       "      <td>...</td>\n",
       "      <td>58.0</td>\n",
       "      <td>57.0</td>\n",
       "      <td>78.0</td>\n",
       "      <td>62.0</td>\n",
       "      <td>87.0</td>\n",
       "      <td>82.0</td>\n",
       "      <td>88.0</td>\n",
       "      <td>84.0</td>\n",
       "      <td>61.0</td>\n",
       "      <td>88.0</td>\n",
       "    </tr>\n",
       "    <tr>\n",
       "      <th>6</th>\n",
       "      <td>De Gea</td>\n",
       "      <td>26</td>\n",
       "      <td>https://cdn.sofifa.org/48/18/players/193080.png</td>\n",
       "      <td>Spain</td>\n",
       "      <td>https://cdn.sofifa.org/flags/45.png</td>\n",
       "      <td>90</td>\n",
       "      <td>92</td>\n",
       "      <td>Manchester United</td>\n",
       "      <td>https://cdn.sofifa.org/24/18/teams/11.png</td>\n",
       "      <td>64500000</td>\n",
       "      <td>...</td>\n",
       "      <td>NaN</td>\n",
       "      <td>NaN</td>\n",
       "      <td>NaN</td>\n",
       "      <td>NaN</td>\n",
       "      <td>NaN</td>\n",
       "      <td>NaN</td>\n",
       "      <td>NaN</td>\n",
       "      <td>NaN</td>\n",
       "      <td>NaN</td>\n",
       "      <td>NaN</td>\n",
       "    </tr>\n",
       "    <tr>\n",
       "      <th>7</th>\n",
       "      <td>E. Hazard</td>\n",
       "      <td>26</td>\n",
       "      <td>https://cdn.sofifa.org/48/18/players/183277.png</td>\n",
       "      <td>Belgium</td>\n",
       "      <td>https://cdn.sofifa.org/flags/7.png</td>\n",
       "      <td>90</td>\n",
       "      <td>91</td>\n",
       "      <td>Chelsea</td>\n",
       "      <td>https://cdn.sofifa.org/24/18/teams/5.png</td>\n",
       "      <td>90500000</td>\n",
       "      <td>...</td>\n",
       "      <td>59.0</td>\n",
       "      <td>47.0</td>\n",
       "      <td>81.0</td>\n",
       "      <td>61.0</td>\n",
       "      <td>87.0</td>\n",
       "      <td>87.0</td>\n",
       "      <td>82.0</td>\n",
       "      <td>88.0</td>\n",
       "      <td>64.0</td>\n",
       "      <td>82.0</td>\n",
       "    </tr>\n",
       "    <tr>\n",
       "      <th>8</th>\n",
       "      <td>T. Kroos</td>\n",
       "      <td>27</td>\n",
       "      <td>https://cdn.sofifa.org/48/18/players/182521.png</td>\n",
       "      <td>Germany</td>\n",
       "      <td>https://cdn.sofifa.org/flags/21.png</td>\n",
       "      <td>90</td>\n",
       "      <td>90</td>\n",
       "      <td>Real Madrid CF</td>\n",
       "      <td>https://cdn.sofifa.org/24/18/teams/243.png</td>\n",
       "      <td>79000000</td>\n",
       "      <td>...</td>\n",
       "      <td>76.0</td>\n",
       "      <td>72.0</td>\n",
       "      <td>87.0</td>\n",
       "      <td>82.0</td>\n",
       "      <td>81.0</td>\n",
       "      <td>81.0</td>\n",
       "      <td>77.0</td>\n",
       "      <td>80.0</td>\n",
       "      <td>78.0</td>\n",
       "      <td>77.0</td>\n",
       "    </tr>\n",
       "    <tr>\n",
       "      <th>9</th>\n",
       "      <td>G. Higuaín</td>\n",
       "      <td>29</td>\n",
       "      <td>https://cdn.sofifa.org/48/18/players/167664.png</td>\n",
       "      <td>Argentina</td>\n",
       "      <td>https://cdn.sofifa.org/flags/52.png</td>\n",
       "      <td>90</td>\n",
       "      <td>90</td>\n",
       "      <td>Juventus</td>\n",
       "      <td>https://cdn.sofifa.org/24/18/teams/45.png</td>\n",
       "      <td>77000000</td>\n",
       "      <td>...</td>\n",
       "      <td>51.0</td>\n",
       "      <td>46.0</td>\n",
       "      <td>71.0</td>\n",
       "      <td>52.0</td>\n",
       "      <td>84.0</td>\n",
       "      <td>79.0</td>\n",
       "      <td>87.0</td>\n",
       "      <td>82.0</td>\n",
       "      <td>55.0</td>\n",
       "      <td>87.0</td>\n",
       "    </tr>\n",
       "  </tbody>\n",
       "</table>\n",
       "<p>10 rows × 74 columns</p>\n",
       "</div>"
      ],
      "text/plain": [
       "                Name  Age                                            Photo  \\\n",
       "0  Cristiano Ronaldo   32   https://cdn.sofifa.org/48/18/players/20801.png   \n",
       "1           L. Messi   30  https://cdn.sofifa.org/48/18/players/158023.png   \n",
       "2             Neymar   25  https://cdn.sofifa.org/48/18/players/190871.png   \n",
       "3          L. Suárez   30  https://cdn.sofifa.org/48/18/players/176580.png   \n",
       "4           M. Neuer   31  https://cdn.sofifa.org/48/18/players/167495.png   \n",
       "5     R. Lewandowski   28  https://cdn.sofifa.org/48/18/players/188545.png   \n",
       "6             De Gea   26  https://cdn.sofifa.org/48/18/players/193080.png   \n",
       "7          E. Hazard   26  https://cdn.sofifa.org/48/18/players/183277.png   \n",
       "8           T. Kroos   27  https://cdn.sofifa.org/48/18/players/182521.png   \n",
       "9         G. Higuaín   29  https://cdn.sofifa.org/48/18/players/167664.png   \n",
       "\n",
       "  Nationality                                 Flag  Overall  Potential  \\\n",
       "0    Portugal  https://cdn.sofifa.org/flags/38.png       94         94   \n",
       "1   Argentina  https://cdn.sofifa.org/flags/52.png       93         93   \n",
       "2      Brazil  https://cdn.sofifa.org/flags/54.png       92         94   \n",
       "3     Uruguay  https://cdn.sofifa.org/flags/60.png       92         92   \n",
       "4     Germany  https://cdn.sofifa.org/flags/21.png       92         92   \n",
       "5      Poland  https://cdn.sofifa.org/flags/37.png       91         91   \n",
       "6       Spain  https://cdn.sofifa.org/flags/45.png       90         92   \n",
       "7     Belgium   https://cdn.sofifa.org/flags/7.png       90         91   \n",
       "8     Germany  https://cdn.sofifa.org/flags/21.png       90         90   \n",
       "9   Argentina  https://cdn.sofifa.org/flags/52.png       90         90   \n",
       "\n",
       "                  Club                                   Club Logo      Value  \\\n",
       "0       Real Madrid CF  https://cdn.sofifa.org/24/18/teams/243.png   95500000   \n",
       "1         FC Barcelona  https://cdn.sofifa.org/24/18/teams/241.png  105000000   \n",
       "2  Paris Saint-Germain   https://cdn.sofifa.org/24/18/teams/73.png  123000000   \n",
       "3         FC Barcelona  https://cdn.sofifa.org/24/18/teams/241.png   97000000   \n",
       "4     FC Bayern Munich   https://cdn.sofifa.org/24/18/teams/21.png   61000000   \n",
       "5     FC Bayern Munich   https://cdn.sofifa.org/24/18/teams/21.png   92000000   \n",
       "6    Manchester United   https://cdn.sofifa.org/24/18/teams/11.png   64500000   \n",
       "7              Chelsea    https://cdn.sofifa.org/24/18/teams/5.png   90500000   \n",
       "8       Real Madrid CF  https://cdn.sofifa.org/24/18/teams/243.png   79000000   \n",
       "9             Juventus   https://cdn.sofifa.org/24/18/teams/45.png   77000000   \n",
       "\n",
       "   ...     RB   RCB   RCM   RDM    RF    RM    RS    RW   RWB    ST  \n",
       "0  ...   61.0  53.0  82.0  62.0  91.0  89.0  92.0  91.0  66.0  92.0  \n",
       "1  ...   57.0  45.0  84.0  59.0  92.0  90.0  88.0  91.0  62.0  88.0  \n",
       "2  ...   59.0  46.0  79.0  59.0  88.0  87.0  84.0  89.0  64.0  84.0  \n",
       "3  ...   64.0  58.0  80.0  65.0  88.0  85.0  88.0  87.0  68.0  88.0  \n",
       "4  ...    NaN   NaN   NaN   NaN   NaN   NaN   NaN   NaN   NaN   NaN  \n",
       "5  ...   58.0  57.0  78.0  62.0  87.0  82.0  88.0  84.0  61.0  88.0  \n",
       "6  ...    NaN   NaN   NaN   NaN   NaN   NaN   NaN   NaN   NaN   NaN  \n",
       "7  ...   59.0  47.0  81.0  61.0  87.0  87.0  82.0  88.0  64.0  82.0  \n",
       "8  ...   76.0  72.0  87.0  82.0  81.0  81.0  77.0  80.0  78.0  77.0  \n",
       "9  ...   51.0  46.0  71.0  52.0  84.0  79.0  87.0  82.0  55.0  87.0  \n",
       "\n",
       "[10 rows x 74 columns]"
      ]
     },
     "execution_count": 110,
     "metadata": {},
     "output_type": "execute_result"
    }
   ],
   "source": [
    "players_data.nlargest(10,\"Overall\")"
   ]
  },
  {
   "cell_type": "code",
   "execution_count": 111,
   "metadata": {},
   "outputs": [
    {
     "data": {
      "text/html": [
       "<div>\n",
       "<style scoped>\n",
       "    .dataframe tbody tr th:only-of-type {\n",
       "        vertical-align: middle;\n",
       "    }\n",
       "\n",
       "    .dataframe tbody tr th {\n",
       "        vertical-align: top;\n",
       "    }\n",
       "\n",
       "    .dataframe thead th {\n",
       "        text-align: right;\n",
       "    }\n",
       "</style>\n",
       "<table border=\"1\" class=\"dataframe\">\n",
       "  <thead>\n",
       "    <tr style=\"text-align: right;\">\n",
       "      <th></th>\n",
       "      <th>Name</th>\n",
       "      <th>Age</th>\n",
       "      <th>Photo</th>\n",
       "      <th>Nationality</th>\n",
       "      <th>Flag</th>\n",
       "      <th>Overall</th>\n",
       "      <th>Potential</th>\n",
       "      <th>Club</th>\n",
       "      <th>Club Logo</th>\n",
       "      <th>Value</th>\n",
       "      <th>...</th>\n",
       "      <th>RB</th>\n",
       "      <th>RCB</th>\n",
       "      <th>RCM</th>\n",
       "      <th>RDM</th>\n",
       "      <th>RF</th>\n",
       "      <th>RM</th>\n",
       "      <th>RS</th>\n",
       "      <th>RW</th>\n",
       "      <th>RWB</th>\n",
       "      <th>ST</th>\n",
       "    </tr>\n",
       "  </thead>\n",
       "  <tbody>\n",
       "    <tr>\n",
       "      <th>17973</th>\n",
       "      <td>T. Sawyer</td>\n",
       "      <td>18</td>\n",
       "      <td>https://cdn.sofifa.org/48/18/players/240403.png</td>\n",
       "      <td>England</td>\n",
       "      <td>https://cdn.sofifa.org/flags/14.png</td>\n",
       "      <td>46</td>\n",
       "      <td>58</td>\n",
       "      <td>Grimsby Town</td>\n",
       "      <td>https://cdn.sofifa.org/24/18/teams/92.png</td>\n",
       "      <td>50000</td>\n",
       "      <td>...</td>\n",
       "      <td>45.0</td>\n",
       "      <td>42.0</td>\n",
       "      <td>45.0</td>\n",
       "      <td>43.0</td>\n",
       "      <td>46.0</td>\n",
       "      <td>47.0</td>\n",
       "      <td>45.0</td>\n",
       "      <td>47.0</td>\n",
       "      <td>46.0</td>\n",
       "      <td>45.0</td>\n",
       "    </tr>\n",
       "    <tr>\n",
       "      <th>17974</th>\n",
       "      <td>J. Keeble</td>\n",
       "      <td>18</td>\n",
       "      <td>https://cdn.sofifa.org/48/18/players/240404.png</td>\n",
       "      <td>England</td>\n",
       "      <td>https://cdn.sofifa.org/flags/14.png</td>\n",
       "      <td>46</td>\n",
       "      <td>56</td>\n",
       "      <td>Grimsby Town</td>\n",
       "      <td>https://cdn.sofifa.org/24/18/teams/92.png</td>\n",
       "      <td>40000</td>\n",
       "      <td>...</td>\n",
       "      <td>46.0</td>\n",
       "      <td>45.0</td>\n",
       "      <td>34.0</td>\n",
       "      <td>41.0</td>\n",
       "      <td>33.0</td>\n",
       "      <td>35.0</td>\n",
       "      <td>33.0</td>\n",
       "      <td>34.0</td>\n",
       "      <td>44.0</td>\n",
       "      <td>33.0</td>\n",
       "    </tr>\n",
       "    <tr>\n",
       "      <th>17975</th>\n",
       "      <td>T. Käßemodel</td>\n",
       "      <td>28</td>\n",
       "      <td>https://cdn.sofifa.org/48/18/players/235352.png</td>\n",
       "      <td>Germany</td>\n",
       "      <td>https://cdn.sofifa.org/flags/21.png</td>\n",
       "      <td>46</td>\n",
       "      <td>46</td>\n",
       "      <td>FC Erzgebirge Aue</td>\n",
       "      <td>https://cdn.sofifa.org/24/18/teams/506.png</td>\n",
       "      <td>30000</td>\n",
       "      <td>...</td>\n",
       "      <td>37.0</td>\n",
       "      <td>38.0</td>\n",
       "      <td>45.0</td>\n",
       "      <td>42.0</td>\n",
       "      <td>42.0</td>\n",
       "      <td>42.0</td>\n",
       "      <td>41.0</td>\n",
       "      <td>41.0</td>\n",
       "      <td>38.0</td>\n",
       "      <td>41.0</td>\n",
       "    </tr>\n",
       "    <tr>\n",
       "      <th>17976</th>\n",
       "      <td>A. Kelsey</td>\n",
       "      <td>17</td>\n",
       "      <td>https://cdn.sofifa.org/48/18/players/237463.png</td>\n",
       "      <td>England</td>\n",
       "      <td>https://cdn.sofifa.org/flags/14.png</td>\n",
       "      <td>46</td>\n",
       "      <td>63</td>\n",
       "      <td>Scunthorpe United</td>\n",
       "      <td>https://cdn.sofifa.org/24/18/teams/1949.png</td>\n",
       "      <td>50000</td>\n",
       "      <td>...</td>\n",
       "      <td>NaN</td>\n",
       "      <td>NaN</td>\n",
       "      <td>NaN</td>\n",
       "      <td>NaN</td>\n",
       "      <td>NaN</td>\n",
       "      <td>NaN</td>\n",
       "      <td>NaN</td>\n",
       "      <td>NaN</td>\n",
       "      <td>NaN</td>\n",
       "      <td>NaN</td>\n",
       "    </tr>\n",
       "    <tr>\n",
       "      <th>17978</th>\n",
       "      <td>J. Young</td>\n",
       "      <td>17</td>\n",
       "      <td>https://cdn.sofifa.org/48/18/players/231381.png</td>\n",
       "      <td>Scotland</td>\n",
       "      <td>https://cdn.sofifa.org/flags/42.png</td>\n",
       "      <td>46</td>\n",
       "      <td>61</td>\n",
       "      <td>Swindon Town</td>\n",
       "      <td>https://cdn.sofifa.org/24/18/teams/1934.png</td>\n",
       "      <td>60000</td>\n",
       "      <td>...</td>\n",
       "      <td>31.0</td>\n",
       "      <td>28.0</td>\n",
       "      <td>38.0</td>\n",
       "      <td>29.0</td>\n",
       "      <td>45.0</td>\n",
       "      <td>42.0</td>\n",
       "      <td>45.0</td>\n",
       "      <td>44.0</td>\n",
       "      <td>32.0</td>\n",
       "      <td>45.0</td>\n",
       "    </tr>\n",
       "    <tr>\n",
       "      <th>17979</th>\n",
       "      <td>J. Lundstram</td>\n",
       "      <td>18</td>\n",
       "      <td>https://cdn.sofifa.org/48/18/players/238813.png</td>\n",
       "      <td>England</td>\n",
       "      <td>https://cdn.sofifa.org/flags/14.png</td>\n",
       "      <td>46</td>\n",
       "      <td>64</td>\n",
       "      <td>Crewe Alexandra</td>\n",
       "      <td>https://cdn.sofifa.org/24/18/teams/121.png</td>\n",
       "      <td>60000</td>\n",
       "      <td>...</td>\n",
       "      <td>47.0</td>\n",
       "      <td>46.0</td>\n",
       "      <td>45.0</td>\n",
       "      <td>47.0</td>\n",
       "      <td>43.0</td>\n",
       "      <td>45.0</td>\n",
       "      <td>41.0</td>\n",
       "      <td>44.0</td>\n",
       "      <td>46.0</td>\n",
       "      <td>41.0</td>\n",
       "    </tr>\n",
       "    <tr>\n",
       "      <th>17980</th>\n",
       "      <td>L. Sackey</td>\n",
       "      <td>18</td>\n",
       "      <td>https://cdn.sofifa.org/48/18/players/238308.png</td>\n",
       "      <td>Ghana</td>\n",
       "      <td>https://cdn.sofifa.org/flags/117.png</td>\n",
       "      <td>46</td>\n",
       "      <td>64</td>\n",
       "      <td>Scunthorpe United</td>\n",
       "      <td>https://cdn.sofifa.org/24/18/teams/1949.png</td>\n",
       "      <td>50000</td>\n",
       "      <td>...</td>\n",
       "      <td>40.0</td>\n",
       "      <td>45.0</td>\n",
       "      <td>30.0</td>\n",
       "      <td>38.0</td>\n",
       "      <td>29.0</td>\n",
       "      <td>30.0</td>\n",
       "      <td>31.0</td>\n",
       "      <td>29.0</td>\n",
       "      <td>38.0</td>\n",
       "      <td>31.0</td>\n",
       "    </tr>\n",
       "    <tr>\n",
       "      <th>17957</th>\n",
       "      <td>D. Peppard</td>\n",
       "      <td>17</td>\n",
       "      <td>https://cdn.sofifa.org/48/18/players/236807.png</td>\n",
       "      <td>Republic of Ireland</td>\n",
       "      <td>https://cdn.sofifa.org/flags/25.png</td>\n",
       "      <td>47</td>\n",
       "      <td>61</td>\n",
       "      <td>Bohemian FC</td>\n",
       "      <td>https://cdn.sofifa.org/24/18/teams/305.png</td>\n",
       "      <td>50000</td>\n",
       "      <td>...</td>\n",
       "      <td>46.0</td>\n",
       "      <td>45.0</td>\n",
       "      <td>41.0</td>\n",
       "      <td>45.0</td>\n",
       "      <td>39.0</td>\n",
       "      <td>42.0</td>\n",
       "      <td>37.0</td>\n",
       "      <td>40.0</td>\n",
       "      <td>46.0</td>\n",
       "      <td>37.0</td>\n",
       "    </tr>\n",
       "    <tr>\n",
       "      <th>17958</th>\n",
       "      <td>C. Rogers</td>\n",
       "      <td>17</td>\n",
       "      <td>https://cdn.sofifa.org/48/18/players/237859.png</td>\n",
       "      <td>Republic of Ireland</td>\n",
       "      <td>https://cdn.sofifa.org/flags/25.png</td>\n",
       "      <td>47</td>\n",
       "      <td>59</td>\n",
       "      <td>Bray Wanderers</td>\n",
       "      <td>https://cdn.sofifa.org/24/18/teams/838.png</td>\n",
       "      <td>40000</td>\n",
       "      <td>...</td>\n",
       "      <td>46.0</td>\n",
       "      <td>47.0</td>\n",
       "      <td>36.0</td>\n",
       "      <td>43.0</td>\n",
       "      <td>35.0</td>\n",
       "      <td>37.0</td>\n",
       "      <td>37.0</td>\n",
       "      <td>35.0</td>\n",
       "      <td>44.0</td>\n",
       "      <td>37.0</td>\n",
       "    </tr>\n",
       "    <tr>\n",
       "      <th>17959</th>\n",
       "      <td>N. McLaughlin</td>\n",
       "      <td>18</td>\n",
       "      <td>https://cdn.sofifa.org/48/18/players/225319.png</td>\n",
       "      <td>Scotland</td>\n",
       "      <td>https://cdn.sofifa.org/flags/42.png</td>\n",
       "      <td>47</td>\n",
       "      <td>64</td>\n",
       "      <td>Partick Thistle F.C.</td>\n",
       "      <td>https://cdn.sofifa.org/24/18/teams/1754.png</td>\n",
       "      <td>60000</td>\n",
       "      <td>...</td>\n",
       "      <td>43.0</td>\n",
       "      <td>40.0</td>\n",
       "      <td>46.0</td>\n",
       "      <td>44.0</td>\n",
       "      <td>47.0</td>\n",
       "      <td>48.0</td>\n",
       "      <td>46.0</td>\n",
       "      <td>47.0</td>\n",
       "      <td>44.0</td>\n",
       "      <td>46.0</td>\n",
       "    </tr>\n",
       "  </tbody>\n",
       "</table>\n",
       "<p>10 rows × 74 columns</p>\n",
       "</div>"
      ],
      "text/plain": [
       "                Name  Age                                            Photo  \\\n",
       "17973      T. Sawyer   18  https://cdn.sofifa.org/48/18/players/240403.png   \n",
       "17974      J. Keeble   18  https://cdn.sofifa.org/48/18/players/240404.png   \n",
       "17975   T. Käßemodel   28  https://cdn.sofifa.org/48/18/players/235352.png   \n",
       "17976      A. Kelsey   17  https://cdn.sofifa.org/48/18/players/237463.png   \n",
       "17978       J. Young   17  https://cdn.sofifa.org/48/18/players/231381.png   \n",
       "17979   J. Lundstram   18  https://cdn.sofifa.org/48/18/players/238813.png   \n",
       "17980      L. Sackey   18  https://cdn.sofifa.org/48/18/players/238308.png   \n",
       "17957     D. Peppard   17  https://cdn.sofifa.org/48/18/players/236807.png   \n",
       "17958      C. Rogers   17  https://cdn.sofifa.org/48/18/players/237859.png   \n",
       "17959  N. McLaughlin   18  https://cdn.sofifa.org/48/18/players/225319.png   \n",
       "\n",
       "               Nationality                                  Flag  Overall  \\\n",
       "17973              England   https://cdn.sofifa.org/flags/14.png       46   \n",
       "17974              England   https://cdn.sofifa.org/flags/14.png       46   \n",
       "17975              Germany   https://cdn.sofifa.org/flags/21.png       46   \n",
       "17976              England   https://cdn.sofifa.org/flags/14.png       46   \n",
       "17978             Scotland   https://cdn.sofifa.org/flags/42.png       46   \n",
       "17979              England   https://cdn.sofifa.org/flags/14.png       46   \n",
       "17980                Ghana  https://cdn.sofifa.org/flags/117.png       46   \n",
       "17957  Republic of Ireland   https://cdn.sofifa.org/flags/25.png       47   \n",
       "17958  Republic of Ireland   https://cdn.sofifa.org/flags/25.png       47   \n",
       "17959             Scotland   https://cdn.sofifa.org/flags/42.png       47   \n",
       "\n",
       "       Potential                  Club  \\\n",
       "17973         58          Grimsby Town   \n",
       "17974         56          Grimsby Town   \n",
       "17975         46     FC Erzgebirge Aue   \n",
       "17976         63     Scunthorpe United   \n",
       "17978         61          Swindon Town   \n",
       "17979         64       Crewe Alexandra   \n",
       "17980         64     Scunthorpe United   \n",
       "17957         61           Bohemian FC   \n",
       "17958         59        Bray Wanderers   \n",
       "17959         64  Partick Thistle F.C.   \n",
       "\n",
       "                                         Club Logo  Value  ...     RB   RCB  \\\n",
       "17973    https://cdn.sofifa.org/24/18/teams/92.png  50000  ...   45.0  42.0   \n",
       "17974    https://cdn.sofifa.org/24/18/teams/92.png  40000  ...   46.0  45.0   \n",
       "17975   https://cdn.sofifa.org/24/18/teams/506.png  30000  ...   37.0  38.0   \n",
       "17976  https://cdn.sofifa.org/24/18/teams/1949.png  50000  ...    NaN   NaN   \n",
       "17978  https://cdn.sofifa.org/24/18/teams/1934.png  60000  ...   31.0  28.0   \n",
       "17979   https://cdn.sofifa.org/24/18/teams/121.png  60000  ...   47.0  46.0   \n",
       "17980  https://cdn.sofifa.org/24/18/teams/1949.png  50000  ...   40.0  45.0   \n",
       "17957   https://cdn.sofifa.org/24/18/teams/305.png  50000  ...   46.0  45.0   \n",
       "17958   https://cdn.sofifa.org/24/18/teams/838.png  40000  ...   46.0  47.0   \n",
       "17959  https://cdn.sofifa.org/24/18/teams/1754.png  60000  ...   43.0  40.0   \n",
       "\n",
       "        RCM   RDM    RF    RM    RS    RW   RWB    ST  \n",
       "17973  45.0  43.0  46.0  47.0  45.0  47.0  46.0  45.0  \n",
       "17974  34.0  41.0  33.0  35.0  33.0  34.0  44.0  33.0  \n",
       "17975  45.0  42.0  42.0  42.0  41.0  41.0  38.0  41.0  \n",
       "17976   NaN   NaN   NaN   NaN   NaN   NaN   NaN   NaN  \n",
       "17978  38.0  29.0  45.0  42.0  45.0  44.0  32.0  45.0  \n",
       "17979  45.0  47.0  43.0  45.0  41.0  44.0  46.0  41.0  \n",
       "17980  30.0  38.0  29.0  30.0  31.0  29.0  38.0  31.0  \n",
       "17957  41.0  45.0  39.0  42.0  37.0  40.0  46.0  37.0  \n",
       "17958  36.0  43.0  35.0  37.0  37.0  35.0  44.0  37.0  \n",
       "17959  46.0  44.0  47.0  48.0  46.0  47.0  44.0  46.0  \n",
       "\n",
       "[10 rows x 74 columns]"
      ]
     },
     "execution_count": 111,
     "metadata": {},
     "output_type": "execute_result"
    }
   ],
   "source": [
    "players_data.nsmallest(10,\"Overall\")"
   ]
  },
  {
   "cell_type": "markdown",
   "metadata": {},
   "source": [
    "Lets see the distribution of the players based on overall. We will plot a histogram for that. It is interesting to see(atleast to me) is this a normal distribution(Gaussian)."
   ]
  },
  {
   "cell_type": "code",
   "execution_count": 112,
   "metadata": {},
   "outputs": [
    {
     "data": {
      "image/png": "[encoded data removed]",
      "text/plain": [
       "<Figure size 576x396 with 1 Axes>"
      ]
     },
     "metadata": {},
     "output_type": "display_data"
    },
    {
     "name": "stdout",
     "output_type": "stream",
     "text": [
      "The mean value for the Overall feature is  66.17992734942582  and the standard deviation is  7.005938114936933\n"
     ]
    }
   ],
   "source": [
    "plt.hist(players_data.Overall,bins = 16)\n",
    "plt.title(\"Number of players per Overall\")\n",
    "plt.xlabel(\"Overall\")\n",
    "plt.ylabel(\"Count\")\n",
    "plt.show()\n",
    "overall_mean = players_data.Overall.mean()\n",
    "overall_std = players_data.Overall.std()\n",
    "print('The mean value for the Overall feature is ', overall_mean, ' and the standard deviation is ', overall_std)\n"
   ]
  },
  {
   "cell_type": "markdown",
   "metadata": {},
   "source": [
    "Let's begin to build the training models."
   ]
  },
  {
   "cell_type": "markdown",
   "metadata": {},
   "source": [
    "## Building training models\n",
    "\n",
    "I will compare some famous training models, get the best for this project and use it in the web app that we will make. We will try four types of regressions and compare them."
   ]
  },
  {
   "cell_type": "markdown",
   "metadata": {},
   "source": [
    "### Linear Regression\n",
    "\n",
    "We will make a linear regression with a standart 70/30 data split and we will compare it with scaled values and without."
   ]
  },
  {
   "cell_type": "code",
   "execution_count": 113,
   "metadata": {},
   "outputs": [],
   "source": [
    "train, test = train_test_split(players_data,train_size = 0.7, test_size=0.3)\n",
    " \n",
    "x_train = train[['Value']]\n",
    "y_train = train[['Overall']]\n",
    " \n",
    "x_test = test[['Value']]\n",
    "y_test = test[['Overall']]"
   ]
  },
  {
   "cell_type": "markdown",
   "metadata": {},
   "source": [
    "Since it’s reasonable to think that there could be a linear relationship between a player’s market value and how good they are, then we can apply a linear regression with values and overalls."
   ]
  },
  {
   "cell_type": "code",
   "execution_count": 114,
   "metadata": {},
   "outputs": [
    {
     "name": "stdout",
     "output_type": "stream",
     "text": [
      "Score:  0.39805066768471586\n"
     ]
    }
   ],
   "source": [
    "linear_model = LinearRegression()\n",
    "linear_model.fit(x_train, y_train)\n",
    "print(\"Score: \",linear_model.score(x_test, y_test))"
   ]
  },
  {
   "cell_type": "markdown",
   "metadata": {},
   "source": [
    "It is not so good at all(only 39% accuracy).Now let’s plot the line that represents our linear model and also get the MSE(mean squarred error)."
   ]
  },
  {
   "cell_type": "code",
   "execution_count": 115,
   "metadata": {},
   "outputs": [
    {
     "data": {
      "image/png": "[encoded data removed]",
      "text/plain": [
       "<Figure size 576x396 with 1 Axes>"
      ]
     },
     "metadata": {},
     "output_type": "display_data"
    },
    {
     "name": "stdout",
     "output_type": "stream",
     "text": [
      "Score on testing data:  0.39805066768471586\n",
      "Mean squared error score on testing data:  29.37566634862513\n"
     ]
    }
   ],
   "source": [
    "y_pred = linear_model.predict(x_test) #needed for ploting our linear regression\n",
    "plt.scatter(x_test, y_test,  color='red', label=\"actual data\")\n",
    "plt.plot(x_test, y_pred, color='blue', linewidth=3, label=\"predicted data\")\n",
    "plt.xlabel(\"Value\")\n",
    "plt.ylabel(\"Overall\")\n",
    "plt.legend()\n",
    "plt.show()\n",
    "\n",
    "print(\"Score on testing data: \",linear_model.score(x_test, y_test))\n",
    "print(\"Mean squared error score on testing data: \", mean_squared_error(y_test,y_pred))"
   ]
  },
  {
   "cell_type": "markdown",
   "metadata": {},
   "source": [
    "Something interesting with that model is that it predict some players overall when its value is below 30000000. And such players are a big procent of our data."
   ]
  },
  {
   "cell_type": "code",
   "execution_count": 116,
   "metadata": {},
   "outputs": [
    {
     "name": "stdout",
     "output_type": "stream",
     "text": [
      "% of players with a value lower that €30M:  99.31450667916569 %\n"
     ]
    },
    {
     "data": {
      "image/png": "[encoded data removed]",
      "text/plain": [
       "<Figure size 576x396 with 1 Axes>"
      ]
     },
     "metadata": {},
     "output_type": "display_data"
    }
   ],
   "source": [
    "print('% of players with a value lower that €30M: ', players_data[players_data.Value <= 30000000].Value.count() / players_data.Value.count() * 100, '%')\n",
    "\n",
    "plt.hist(test.Value)\n",
    "plt.title(\"#Players per Value\")\n",
    "plt.xlabel(\"Value\")\n",
    "plt.ylabel(\"Count\")\n",
    "plt.show()"
   ]
  },
  {
   "cell_type": "markdown",
   "metadata": {},
   "source": [
    "### PolynomialFeatures and Ridge Regression\n",
    "\n",
    "We can improve the score with Polynomial features Ridge Regression. I can't give a good deep explanation what is Ridge Regression but i have included some resources that i used to explain it to myself(a video and a post in Resources section). Basically it is like Linear Regressin but we make some biases for the training data to make a better long term predictions. Using Ridge regression (instead of the standard linear regression model) can help minimize overfitting."
   ]
  },
  {
   "cell_type": "markdown",
   "metadata": {},
   "source": [
    "From calculus, we know that a common and efficient way of computing a complex function is by approximating it by using polynomials. So, we can take this idea and assume that the data points in our dataset are points of a complex math function. Our goal is to find a polynomial that fits the curve of that function quite well."
   ]
  },
  {
   "cell_type": "code",
   "execution_count": 117,
   "metadata": {},
   "outputs": [
    {
     "name": "stderr",
     "output_type": "stream",
     "text": [
      "C:\\Users\\kosta\\AppData\\Local\\Continuum\\anaconda3\\lib\\site-packages\\sklearn\\linear_model\\ridge.py:112: LinAlgWarning: scipy.linalg.solve\n",
      "Ill-conditioned matrix detected. Result is not guaranteed to be accurate.\n",
      "Reciprocal condition number3.289488e-130\n",
      "  overwrite_a=True).T\n"
     ]
    },
    {
     "data": {
      "text/plain": [
       "Pipeline(memory=None,\n",
       "     steps=[('polynomialfeatures', PolynomialFeatures(degree=8, include_bias=True, interaction_only=False)), ('ridge', Ridge(alpha=1.0, copy_X=True, fit_intercept=True, max_iter=None,\n",
       "   normalize=False, random_state=None, solver='auto', tol=0.001))])"
      ]
     },
     "execution_count": 117,
     "metadata": {},
     "output_type": "execute_result"
    }
   ],
   "source": [
    "\n",
    "pol = make_pipeline(PolynomialFeatures(8),Ridge())\n",
    "pol.fit(x_train, y_train)"
   ]
  },
  {
   "cell_type": "code",
   "execution_count": 118,
   "metadata": {},
   "outputs": [
    {
     "data": {
      "image/png": "[encoded data removed]",
      "text/plain": [
       "<Figure size 576x396 with 1 Axes>"
      ]
     },
     "metadata": {},
     "output_type": "display_data"
    },
    {
     "name": "stdout",
     "output_type": "stream",
     "text": [
      "Mean squared error:  10.738992602558797\n",
      "Variance score:  0.7799427134645546\n"
     ]
    }
   ],
   "source": [
    "y_pol = pol.predict(x_test)\n",
    "plt.scatter(x_test, y_test,  color='red', label='Actual data')\n",
    "plt.scatter(x_test, y_pol,  color='blue', label='Predicted data')\n",
    "plt.xlabel(\"Value\")\n",
    "plt.ylabel(\"Overall\")\n",
    "plt.legend()\n",
    "plt.show()\n",
    "print(\"Mean squared error: \",mean_squared_error(y_test, y_pol))\n",
    "print(\"Variance score: \", r2_score(y_test, y_pol))"
   ]
  },
  {
   "cell_type": "markdown",
   "metadata": {},
   "source": [
    "We can now see that this is better than a regular Linear Regression.We have reduced MSE and increased R2. I choose the degree to be 8 because i have tried manually other degrees and it looks like this is the optimal."
   ]
  },
  {
   "cell_type": "markdown",
   "metadata": {},
   "source": [
    "## Support Vector Regression\n",
    "At last let's try this model maybe it can help us to increased the R2 score and to reduce the mean squarred error even more. We will hypertune C(regularization) with GridSearchCV to get the best model."
   ]
  },
  {
   "cell_type": "code",
   "execution_count": 120,
   "metadata": {},
   "outputs": [
    {
     "data": {
      "text/plain": [
       "GridSearchCV(cv=None, error_score='raise',\n",
       "       estimator=SVR(C=1.0, cache_size=200, coef0=0.0, degree=3, epsilon=0.1, gamma='auto',\n",
       "  kernel='rbf', max_iter=-1, shrinking=True, tol=0.001, verbose=False),\n",
       "       fit_params=None, iid=True, n_jobs=1,\n",
       "       param_grid=[{'C': [1, 10, 100, 1000]}, {'epsilon': [0.1, 0.2, 0.3, 0.5, 1]}, {'gamma': [0.1, 0.01, 0.001, 1e-05, 1e-07]}],\n",
       "       pre_dispatch='2*n_jobs', refit=True, return_train_score='warn',\n",
       "       scoring=None, verbose=0)"
      ]
     },
     "execution_count": 120,
     "metadata": {},
     "output_type": "execute_result"
    }
   ],
   "source": [
    "tuned_params = [{\"C\": [1,10,100,1000]},{\"epsilon\": [0.1, 0.2,0.3,0.5,1]}, {\"gamma\": [1e-1, 1e-2,1e-3,1e-5,1e-7]}]\n",
    "grid_search = GridSearchCV(SVR(), tuned_params)\n",
    "grid_search.fit(x_train, y_train.values.ravel())"
   ]
  },
  {
   "cell_type": "code",
   "execution_count": 121,
   "metadata": {},
   "outputs": [
    {
     "data": {
      "text/plain": [
       "SVR(C=100, cache_size=200, coef0=0.0, degree=3, epsilon=0.1, gamma='auto',\n",
       "  kernel='rbf', max_iter=-1, shrinking=True, tol=0.001, verbose=False)"
      ]
     },
     "execution_count": 121,
     "metadata": {},
     "output_type": "execute_result"
    }
   ],
   "source": [
    "svr_model = grid_search.best_estimator_\n",
    "svr_model.fit(x_train, y_train.values.ravel())"
   ]
  },
  {
   "cell_type": "code",
   "execution_count": 122,
   "metadata": {},
   "outputs": [
    {
     "data": {
      "image/png": "[encoded data removed]",
      "text/plain": [
       "<Figure size 576x396 with 1 Axes>"
      ]
     },
     "metadata": {},
     "output_type": "display_data"
    },
    {
     "name": "stdout",
     "output_type": "stream",
     "text": [
      "Mean squared error:  5.871970687027443\n",
      "Variance score:  0.8796749393704725\n"
     ]
    }
   ],
   "source": [
    "y_svr = svr_model.predict(x_test)\n",
    "plt.scatter(x_test, y_test,  color='red')\n",
    "plt.scatter(x_test, y_svr,  color='blue')\n",
    "plt.xlabel(\"Value\")\n",
    "plt.ylabel(\"Overall\")\n",
    "plt.show()\n",
    "\n",
    "print(\"Mean squared error: \", mean_squared_error(y_test, y_svr)) \n",
    "print(\"Variance score: \", r2_score(y_test, y_svr))"
   ]
  },
  {
   "cell_type": "markdown",
   "metadata": {},
   "source": [
    "This is really very good! We were able to considerably reduce the MSE and also increase the R2 score in an important way."
   ]
  },
  {
   "cell_type": "markdown",
   "metadata": {},
   "source": [
    "## Adding more features to improve predictions\n",
    "We have used only the value to predict, now is time to add more features."
   ]
  },
  {
   "cell_type": "code",
   "execution_count": 75,
   "metadata": {},
   "outputs": [
    {
     "data": {
      "text/plain": [
       "Index(['Name', 'Age', 'Photo', 'Nationality', 'Flag', 'Overall', 'Potential',\n",
       "       'Club', 'Club Logo', 'Value', 'Wage', 'Special', 'Acceleration',\n",
       "       'Aggression', 'Agility', 'Balance', 'Ball control', 'Composure',\n",
       "       'Crossing', 'Curve', 'Dribbling', 'Finishing', 'Free kick accuracy',\n",
       "       'GK diving', 'GK handling', 'GK kicking', 'GK positioning',\n",
       "       'GK reflexes', 'Heading accuracy', 'Interceptions', 'Jumping',\n",
       "       'Long passing', 'Long shots', 'Marking', 'Penalties', 'Positioning',\n",
       "       'Reactions', 'Short passing', 'Shot power', 'Sliding tackle',\n",
       "       'Sprint speed', 'Stamina', 'Standing tackle', 'Strength', 'Vision',\n",
       "       'Volleys', 'CAM', 'CB', 'CDM', 'CF', 'CM', 'ID', 'LAM', 'LB', 'LCB',\n",
       "       'LCM', 'LDM', 'LF', 'LM', 'LS', 'LW', 'LWB', 'Preferred Positions',\n",
       "       'RAM', 'RB', 'RCB', 'RCM', 'RDM', 'RF', 'RM', 'RS', 'RW', 'RWB', 'ST'],\n",
       "      dtype='object')"
      ]
     },
     "execution_count": 75,
     "metadata": {},
     "output_type": "execute_result"
    }
   ],
   "source": [
    "players_data.columns"
   ]
  },
  {
   "cell_type": "code",
   "execution_count": 76,
   "metadata": {},
   "outputs": [],
   "source": [
    "x_train = train[['Value', 'Special', 'Acceleration',\n",
    "       'Aggression', 'Agility', 'Balance', 'Ball control', 'Composure',\n",
    "       'Crossing', 'Curve', 'Dribbling', 'Finishing', 'Free kick accuracy',\n",
    "       'GK diving', 'GK handling', 'GK kicking', 'GK positioning',\n",
    "       'GK reflexes', 'Heading accuracy', 'Interceptions', 'Jumping',\n",
    "       'Long passing', 'Long shots', 'Marking', 'Penalties', 'Positioning',\n",
    "       'Reactions', 'Short passing', 'Shot power', 'Sliding tackle',\n",
    "       'Sprint speed', 'Stamina', 'Standing tackle', 'Strength', 'Vision',\n",
    "       'Volleys']]\n",
    "x_test = test[['Value', 'Special', 'Acceleration',\n",
    "       'Aggression', 'Agility', 'Balance', 'Ball control', 'Composure',\n",
    "       'Crossing', 'Curve', 'Dribbling', 'Finishing', 'Free kick accuracy',\n",
    "       'GK diving', 'GK handling', 'GK kicking', 'GK positioning',\n",
    "       'GK reflexes', 'Heading accuracy', 'Interceptions', 'Jumping',\n",
    "       'Long passing', 'Long shots', 'Marking', 'Penalties', 'Positioning',\n",
    "       'Reactions', 'Short passing', 'Shot power', 'Sliding tackle',\n",
    "       'Sprint speed', 'Stamina', 'Standing tackle', 'Strength', 'Vision',\n",
    "       'Volleys']]"
   ]
  },
  {
   "cell_type": "code",
   "execution_count": 77,
   "metadata": {},
   "outputs": [
    {
     "name": "stdout",
     "output_type": "stream",
     "text": [
      "Mean squared error with more features:  6.460325919383744\n",
      "Variance score with more features:  0.8688651485517414\n",
      "\n",
      "Mean squared error without more features:  29.59762106183048\n",
      "Variance score without more features:  0.3992130289403061\n"
     ]
    }
   ],
   "source": [
    "linear_model.fit(x_train,y_train)\n",
    "y_pred_more_features = linear_model.predict(x_test)\n",
    "print(\"Mean squared error with more features: \", mean_squared_error(y_test, y_pred_more_features))\n",
    "print(\"Variance score with more features: \", r2_score(y_test, y_pred_more_features))\n",
    "print()\n",
    "print(\"Mean squared error without more features: \", mean_squared_error(y_test, y_pred))\n",
    "print(\"Variance score without more features: \", r2_score(y_test, y_pred))"
   ]
  },
  {
   "cell_type": "markdown",
   "metadata": {},
   "source": [
    "It has a sensible difference between the two Linear Regressions - with and without the added features. Let's check now for Ridge Regression."
   ]
  },
  {
   "cell_type": "code",
   "execution_count": 78,
   "metadata": {},
   "outputs": [
    {
     "name": "stderr",
     "output_type": "stream",
     "text": [
      "C:\\Users\\kosta\\AppData\\Local\\Continuum\\anaconda3\\lib\\site-packages\\sklearn\\linear_model\\ridge.py:154: UserWarning: Singular matrix in solving dual problem. Using least-squares solution instead.\n",
      "  warnings.warn(\"Singular matrix in solving dual problem. Using \"\n"
     ]
    },
    {
     "name": "stdout",
     "output_type": "stream",
     "text": [
      "Mean squared error:  52.356885978795695\n",
      "Variance score:  -0.06276564848259647\n"
     ]
    }
   ],
   "source": [
    "pol_more_features = make_pipeline(PolynomialFeatures(4), Ridge())\n",
    "pol_more_features.fit(x_train, y_train)\n",
    "y_pol_more_features = pol_more_features.predict(x_test)\n",
    "print(\"Mean squared error: \", mean_squared_error(y_test, y_pol_more_features))\n",
    "print('Variance score: ', r2_score(y_test, y_pol_more_features))"
   ]
  },
  {
   "cell_type": "markdown",
   "metadata": {},
   "source": [
    "This is very strange it looks that when we have more features we have reduced the score. Let's see what will be the score if we only have 'Value','Age' and 'Finishing' as features."
   ]
  },
  {
   "cell_type": "code",
   "execution_count": 99,
   "metadata": {},
   "outputs": [],
   "source": [
    "x_test_reduced = test[[\"Value\",\"Age\",\"Finishing\"]]\n",
    "x_train_reduced = train[[\"Value\",\"Age\",\"Finishing\"]]"
   ]
  },
  {
   "cell_type": "code",
   "execution_count": 80,
   "metadata": {},
   "outputs": [
    {
     "name": "stdout",
     "output_type": "stream",
     "text": [
      "Mean squared error:  7.921006730006559\n",
      "Variance score:  0.8392155358999052\n"
     ]
    },
    {
     "name": "stderr",
     "output_type": "stream",
     "text": [
      "C:\\Users\\kosta\\AppData\\Local\\Continuum\\anaconda3\\lib\\site-packages\\sklearn\\linear_model\\ridge.py:112: LinAlgWarning: scipy.linalg.solve\n",
      "Ill-conditioned matrix detected. Result is not guaranteed to be accurate.\n",
      "Reciprocal condition number1.147093e-65\n",
      "  overwrite_a=True).T\n"
     ]
    }
   ],
   "source": [
    "pol_more_features = make_pipeline(PolynomialFeatures(4), Ridge())\n",
    "pol_more_features.fit(x_train_reduced, y_train)\n",
    "y_pol_more_features = pol_more_features.predict(x_test_reduced)\n",
    "print(\"Mean squared error: \", mean_squared_error(y_test, y_pol_more_features))\n",
    "print('Variance score: ', r2_score(y_test, y_pol_more_features))"
   ]
  },
  {
   "cell_type": "markdown",
   "metadata": {},
   "source": [
    "It looks better now. Let's now check our SVR model with more features."
   ]
  },
  {
   "cell_type": "code",
   "execution_count": 96,
   "metadata": {},
   "outputs": [
    {
     "data": {
      "text/plain": [
       "GridSearchCV(cv=None, error_score='raise',\n",
       "       estimator=SVR(C=1.0, cache_size=200, coef0=0.0, degree=3, epsilon=0.1, gamma='auto',\n",
       "  kernel='rbf', max_iter=-1, shrinking=True, tol=0.001, verbose=False),\n",
       "       fit_params=None, iid=True, n_jobs=1,\n",
       "       param_grid=[{'C': [1, 10, 100, 1000]}, {'epsilon': [0.1, 0.2, 0.3, 0.5, 1]}, {'gamma': [0.1, 0.01, 0.001, 1e-05, 1e-07]}],\n",
       "       pre_dispatch='2*n_jobs', refit=True, return_train_score='warn',\n",
       "       scoring=None, verbose=0)"
      ]
     },
     "execution_count": 96,
     "metadata": {},
     "output_type": "execute_result"
    }
   ],
   "source": [
    "tuned_params = [{\"C\": [1,10,100,1000]},{\"epsilon\": [0.1, 0.2,0.3,0.5,1]}, {\"gamma\": [1e-1, 1e-2,1e-3,1e-5,1e-7]}]\n",
    "grid_search = GridSearchCV(SVR(), tuned_params)\n",
    "grid_search.fit(x_train, y_train.values.ravel())"
   ]
  },
  {
   "cell_type": "code",
   "execution_count": 97,
   "metadata": {},
   "outputs": [
    {
     "data": {
      "text/plain": [
       "SVR(C=1.0, cache_size=200, coef0=0.0, degree=3, epsilon=0.1, gamma=1e-07,\n",
       "  kernel='rbf', max_iter=-1, shrinking=True, tol=0.001, verbose=False)"
      ]
     },
     "execution_count": 97,
     "metadata": {},
     "output_type": "execute_result"
    }
   ],
   "source": [
    "svr_model = grid_search.best_estimator_\n",
    "svr_model.fit(x_train, y_train.values.ravel())"
   ]
  },
  {
   "cell_type": "code",
   "execution_count": 98,
   "metadata": {},
   "outputs": [
    {
     "name": "stdout",
     "output_type": "stream",
     "text": [
      "Mean squared error:  7.3458314035345165\n",
      "Variance score:  0.850890725655782\n"
     ]
    }
   ],
   "source": [
    "y_svr_more_features = svr_model.predict(x_test)\n",
    "print(\"Mean squared error: \", mean_squared_error(y_test, y_svr_more_features))\n",
    "print(\"Variance score: \", r2_score(y_test, y_svr_more_features))"
   ]
  },
  {
   "cell_type": "markdown",
   "metadata": {},
   "source": [
    "0.85 is a good score, let's check if we can increased it when reducing the features to only 3(Age,Value and Finishing)."
   ]
  },
  {
   "cell_type": "code",
   "execution_count": 92,
   "metadata": {},
   "outputs": [
    {
     "data": {
      "text/plain": [
       "GridSearchCV(cv=None, error_score='raise',\n",
       "       estimator=SVR(C=1.0, cache_size=200, coef0=0.0, degree=3, epsilon=0.1, gamma='auto',\n",
       "  kernel='rbf', max_iter=-1, shrinking=True, tol=0.001, verbose=False),\n",
       "       fit_params=None, iid=True, n_jobs=1,\n",
       "       param_grid=[{'C': [1, 10, 100, 1000]}, {'epsilon': [0.1, 0.2, 0.3, 0.5, 1]}, {'gamma': [0.1, 0.01, 0.001, 1e-05, 1e-07]}],\n",
       "       pre_dispatch='2*n_jobs', refit=True, return_train_score='warn',\n",
       "       scoring=None, verbose=0)"
      ]
     },
     "execution_count": 92,
     "metadata": {},
     "output_type": "execute_result"
    }
   ],
   "source": [
    "tuned_params = [{\"C\": [1,10,100,1000]},{\"epsilon\": [0.1, 0.2,0.3,0.5,1]}, {\"gamma\": [1e-1, 1e-2,1e-3,1e-5,1e-7]}]\n",
    "grid_search = GridSearchCV(SVR(), tuned_params)\n",
    "grid_search.fit(x_train_reduced, y_train.values.ravel())"
   ]
  },
  {
   "cell_type": "code",
   "execution_count": 93,
   "metadata": {},
   "outputs": [
    {
     "data": {
      "text/plain": [
       "SVR(C=1.0, cache_size=200, coef0=0.0, degree=3, epsilon=0.1, gamma=0.001,\n",
       "  kernel='rbf', max_iter=-1, shrinking=True, tol=0.001, verbose=False)"
      ]
     },
     "execution_count": 93,
     "metadata": {},
     "output_type": "execute_result"
    }
   ],
   "source": [
    "svr_model = grid_search.best_estimator_\n",
    "svr_model.fit(x_train_reduced, y_train.values.ravel())"
   ]
  },
  {
   "cell_type": "code",
   "execution_count": 100,
   "metadata": {},
   "outputs": [
    {
     "ename": "ValueError",
     "evalue": "X.shape[1] = 3 should be equal to 36, the number of features at training time",
     "output_type": "error",
     "traceback": [
      "\u001b[1;31m---------------------------------------------------------------------------\u001b[0m",
      "\u001b[1;31mValueError\u001b[0m                                Traceback (most recent call last)",
      "\u001b[1;32m<ipython-input-100-e2ec0afdef10>\u001b[0m in \u001b[0;36m<module>\u001b[1;34m()\u001b[0m\n\u001b[1;32m----> 1\u001b[1;33m \u001b[0my_svr_reduced_features\u001b[0m \u001b[1;33m=\u001b[0m \u001b[0msvr_model\u001b[0m\u001b[1;33m.\u001b[0m\u001b[0mpredict\u001b[0m\u001b[1;33m(\u001b[0m\u001b[0mx_test_reduced\u001b[0m\u001b[1;33m)\u001b[0m\u001b[1;33m\u001b[0m\u001b[0m\n\u001b[0m\u001b[0;32m      2\u001b[0m \u001b[0mprint\u001b[0m\u001b[1;33m(\u001b[0m\u001b[1;34m\"Mean squared error: \"\u001b[0m\u001b[1;33m,\u001b[0m \u001b[0mmean_squared_error\u001b[0m\u001b[1;33m(\u001b[0m\u001b[0my_test\u001b[0m\u001b[1;33m,\u001b[0m \u001b[0my_svr_reduced_features\u001b[0m\u001b[1;33m)\u001b[0m\u001b[1;33m)\u001b[0m\u001b[1;33m\u001b[0m\u001b[0m\n\u001b[0;32m      3\u001b[0m \u001b[0mprint\u001b[0m\u001b[1;33m(\u001b[0m\u001b[1;34m\"Variance score: \"\u001b[0m\u001b[1;33m,\u001b[0m \u001b[0mr2_score\u001b[0m\u001b[1;33m(\u001b[0m\u001b[0my_test\u001b[0m\u001b[1;33m,\u001b[0m \u001b[0my_svr_reduced_features\u001b[0m\u001b[1;33m)\u001b[0m\u001b[1;33m)\u001b[0m\u001b[1;33m\u001b[0m\u001b[0m\n",
      "\u001b[1;32m~\\AppData\\Local\\Continuum\\anaconda3\\lib\\site-packages\\sklearn\\svm\\base.py\u001b[0m in \u001b[0;36mpredict\u001b[1;34m(self, X)\u001b[0m\n\u001b[0;32m    306\u001b[0m         \u001b[0my_pred\u001b[0m \u001b[1;33m:\u001b[0m \u001b[0marray\u001b[0m\u001b[1;33m,\u001b[0m \u001b[0mshape\u001b[0m \u001b[1;33m(\u001b[0m\u001b[0mn_samples\u001b[0m\u001b[1;33m,\u001b[0m\u001b[1;33m)\u001b[0m\u001b[1;33m\u001b[0m\u001b[0m\n\u001b[0;32m    307\u001b[0m         \"\"\"\n\u001b[1;32m--> 308\u001b[1;33m         \u001b[0mX\u001b[0m \u001b[1;33m=\u001b[0m \u001b[0mself\u001b[0m\u001b[1;33m.\u001b[0m\u001b[0m_validate_for_predict\u001b[0m\u001b[1;33m(\u001b[0m\u001b[0mX\u001b[0m\u001b[1;33m)\u001b[0m\u001b[1;33m\u001b[0m\u001b[0m\n\u001b[0m\u001b[0;32m    309\u001b[0m         \u001b[0mpredict\u001b[0m \u001b[1;33m=\u001b[0m \u001b[0mself\u001b[0m\u001b[1;33m.\u001b[0m\u001b[0m_sparse_predict\u001b[0m \u001b[1;32mif\u001b[0m \u001b[0mself\u001b[0m\u001b[1;33m.\u001b[0m\u001b[0m_sparse\u001b[0m \u001b[1;32melse\u001b[0m \u001b[0mself\u001b[0m\u001b[1;33m.\u001b[0m\u001b[0m_dense_predict\u001b[0m\u001b[1;33m\u001b[0m\u001b[0m\n\u001b[0;32m    310\u001b[0m         \u001b[1;32mreturn\u001b[0m \u001b[0mpredict\u001b[0m\u001b[1;33m(\u001b[0m\u001b[0mX\u001b[0m\u001b[1;33m)\u001b[0m\u001b[1;33m\u001b[0m\u001b[0m\n",
      "\u001b[1;32m~\\AppData\\Local\\Continuum\\anaconda3\\lib\\site-packages\\sklearn\\svm\\base.py\u001b[0m in \u001b[0;36m_validate_for_predict\u001b[1;34m(self, X)\u001b[0m\n\u001b[0;32m    457\u001b[0m             raise ValueError(\"X.shape[1] = %d should be equal to %d, \"\n\u001b[0;32m    458\u001b[0m                              \u001b[1;34m\"the number of features at training time\"\u001b[0m \u001b[1;33m%\u001b[0m\u001b[1;33m\u001b[0m\u001b[0m\n\u001b[1;32m--> 459\u001b[1;33m                              (n_features, self.shape_fit_[1]))\n\u001b[0m\u001b[0;32m    460\u001b[0m         \u001b[1;32mreturn\u001b[0m \u001b[0mX\u001b[0m\u001b[1;33m\u001b[0m\u001b[0m\n\u001b[0;32m    461\u001b[0m \u001b[1;33m\u001b[0m\u001b[0m\n",
      "\u001b[1;31mValueError\u001b[0m: X.shape[1] = 3 should be equal to 36, the number of features at training time"
     ]
    }
   ],
   "source": [
    "y_svr_reduced_features = svr_model.predict(x_test_reduced)\n",
    "print(\"Mean squared error: \", mean_squared_error(y_test, y_svr_reduced_features))\n",
    "print(\"Variance score: \", r2_score(y_test, y_svr_reduced_features))"
   ]
  },
  {
   "cell_type": "markdown",
   "metadata": {},
   "source": [
    "We trained our models lets now see the predicted overall and the error percentage. We will use the last model and with only the three features - Age, Value and Finishing. Because it gives the higher score and the smallest mean square error."
   ]
  },
  {
   "cell_type": "code",
   "execution_count": 53,
   "metadata": {},
   "outputs": [],
   "source": [
    "#pd.options.mode.chained_assignment = None\n",
    "test['OverallPrediction'] = y_svr_more_features\n",
    "test['ErrorPercentage'] =  np.abs((test.Overall - y_svr_more_features) / test.Overall * 100)"
   ]
  },
  {
   "cell_type": "code",
   "execution_count": 47,
   "metadata": {},
   "outputs": [
    {
     "data": {
      "text/html": [
       "<div>\n",
       "<style scoped>\n",
       "    .dataframe tbody tr th:only-of-type {\n",
       "        vertical-align: middle;\n",
       "    }\n",
       "\n",
       "    .dataframe tbody tr th {\n",
       "        vertical-align: top;\n",
       "    }\n",
       "\n",
       "    .dataframe thead th {\n",
       "        text-align: right;\n",
       "    }\n",
       "</style>\n",
       "<table border=\"1\" class=\"dataframe\">\n",
       "  <thead>\n",
       "    <tr style=\"text-align: right;\">\n",
       "      <th></th>\n",
       "      <th>Name</th>\n",
       "      <th>Age</th>\n",
       "      <th>Value</th>\n",
       "      <th>Overall</th>\n",
       "      <th>Overall_Prediction_RBF</th>\n",
       "      <th>Error_Percentage</th>\n",
       "    </tr>\n",
       "  </thead>\n",
       "  <tbody>\n",
       "    <tr>\n",
       "      <th>16757</th>\n",
       "      <td>F. Wadja</td>\n",
       "      <td>22</td>\n",
       "      <td>120000</td>\n",
       "      <td>55</td>\n",
       "      <td>54.999942</td>\n",
       "      <td>0.000106</td>\n",
       "    </tr>\n",
       "    <tr>\n",
       "      <th>16841</th>\n",
       "      <td>A. Argýris</td>\n",
       "      <td>23</td>\n",
       "      <td>100000</td>\n",
       "      <td>55</td>\n",
       "      <td>54.999757</td>\n",
       "      <td>0.000441</td>\n",
       "    </tr>\n",
       "    <tr>\n",
       "      <th>7904</th>\n",
       "      <td>W. Domoraud</td>\n",
       "      <td>28</td>\n",
       "      <td>775000</td>\n",
       "      <td>67</td>\n",
       "      <td>67.000438</td>\n",
       "      <td>0.000654</td>\n",
       "    </tr>\n",
       "    <tr>\n",
       "      <th>8152</th>\n",
       "      <td>J. Venegas</td>\n",
       "      <td>28</td>\n",
       "      <td>775000</td>\n",
       "      <td>67</td>\n",
       "      <td>67.000438</td>\n",
       "      <td>0.000654</td>\n",
       "    </tr>\n",
       "    <tr>\n",
       "      <th>8819</th>\n",
       "      <td>R. Schwartz</td>\n",
       "      <td>27</td>\n",
       "      <td>675000</td>\n",
       "      <td>66</td>\n",
       "      <td>65.998989</td>\n",
       "      <td>0.001532</td>\n",
       "    </tr>\n",
       "    <tr>\n",
       "      <th>6127</th>\n",
       "      <td>P. Ziegler</td>\n",
       "      <td>27</td>\n",
       "      <td>1000000</td>\n",
       "      <td>69</td>\n",
       "      <td>68.998367</td>\n",
       "      <td>0.002366</td>\n",
       "    </tr>\n",
       "    <tr>\n",
       "      <th>2171</th>\n",
       "      <td>F. Pereyra</td>\n",
       "      <td>29</td>\n",
       "      <td>5500000</td>\n",
       "      <td>74</td>\n",
       "      <td>73.997696</td>\n",
       "      <td>0.003113</td>\n",
       "    </tr>\n",
       "    <tr>\n",
       "      <th>2275</th>\n",
       "      <td>E. Bicfalvi</td>\n",
       "      <td>29</td>\n",
       "      <td>5500000</td>\n",
       "      <td>74</td>\n",
       "      <td>73.997696</td>\n",
       "      <td>0.003113</td>\n",
       "    </tr>\n",
       "    <tr>\n",
       "      <th>12571</th>\n",
       "      <td>J. Oosterwijk</td>\n",
       "      <td>22</td>\n",
       "      <td>525000</td>\n",
       "      <td>63</td>\n",
       "      <td>62.997950</td>\n",
       "      <td>0.003254</td>\n",
       "    </tr>\n",
       "    <tr>\n",
       "      <th>12652</th>\n",
       "      <td>D. Baumann</td>\n",
       "      <td>22</td>\n",
       "      <td>525000</td>\n",
       "      <td>63</td>\n",
       "      <td>62.997950</td>\n",
       "      <td>0.003254</td>\n",
       "    </tr>\n",
       "    <tr>\n",
       "      <th>16135</th>\n",
       "      <td>A. Ralston</td>\n",
       "      <td>18</td>\n",
       "      <td>190000</td>\n",
       "      <td>57</td>\n",
       "      <td>56.997589</td>\n",
       "      <td>0.004230</td>\n",
       "    </tr>\n",
       "    <tr>\n",
       "      <th>13522</th>\n",
       "      <td>S. Ayala</td>\n",
       "      <td>21</td>\n",
       "      <td>450000</td>\n",
       "      <td>62</td>\n",
       "      <td>62.004083</td>\n",
       "      <td>0.006585</td>\n",
       "    </tr>\n",
       "    <tr>\n",
       "      <th>10912</th>\n",
       "      <td>P. Malarczyk</td>\n",
       "      <td>25</td>\n",
       "      <td>450000</td>\n",
       "      <td>64</td>\n",
       "      <td>64.004802</td>\n",
       "      <td>0.007503</td>\n",
       "    </tr>\n",
       "    <tr>\n",
       "      <th>11941</th>\n",
       "      <td>L. Erwin</td>\n",
       "      <td>23</td>\n",
       "      <td>675000</td>\n",
       "      <td>64</td>\n",
       "      <td>64.005060</td>\n",
       "      <td>0.007907</td>\n",
       "    </tr>\n",
       "    <tr>\n",
       "      <th>8745</th>\n",
       "      <td>D. Thomalla</td>\n",
       "      <td>24</td>\n",
       "      <td>975000</td>\n",
       "      <td>67</td>\n",
       "      <td>67.005399</td>\n",
       "      <td>0.008058</td>\n",
       "    </tr>\n",
       "  </tbody>\n",
       "</table>\n",
       "</div>"
      ],
      "text/plain": [
       "                Name  Age    Value  Overall  Overall_Prediction_RBF  \\\n",
       "16757       F. Wadja   22   120000       55               54.999942   \n",
       "16841     A. Argýris   23   100000       55               54.999757   \n",
       "7904     W. Domoraud   28   775000       67               67.000438   \n",
       "8152      J. Venegas   28   775000       67               67.000438   \n",
       "8819     R. Schwartz   27   675000       66               65.998989   \n",
       "6127      P. Ziegler   27  1000000       69               68.998367   \n",
       "2171      F. Pereyra   29  5500000       74               73.997696   \n",
       "2275     E. Bicfalvi   29  5500000       74               73.997696   \n",
       "12571  J. Oosterwijk   22   525000       63               62.997950   \n",
       "12652     D. Baumann   22   525000       63               62.997950   \n",
       "16135     A. Ralston   18   190000       57               56.997589   \n",
       "13522       S. Ayala   21   450000       62               62.004083   \n",
       "10912   P. Malarczyk   25   450000       64               64.004802   \n",
       "11941       L. Erwin   23   675000       64               64.005060   \n",
       "8745     D. Thomalla   24   975000       67               67.005399   \n",
       "\n",
       "       Error_Percentage  \n",
       "16757          0.000106  \n",
       "16841          0.000441  \n",
       "7904           0.000654  \n",
       "8152           0.000654  \n",
       "8819           0.001532  \n",
       "6127           0.002366  \n",
       "2171           0.003113  \n",
       "2275           0.003113  \n",
       "12571          0.003254  \n",
       "12652          0.003254  \n",
       "16135          0.004230  \n",
       "13522          0.006585  \n",
       "10912          0.007503  \n",
       "11941          0.007907  \n",
       "8745           0.008058  "
      ]
     },
     "execution_count": 47,
     "metadata": {},
     "output_type": "execute_result"
    }
   ],
   "source": [
    "test[['Name', 'Age', 'Value', 'Overall', 'Overall_Prediction_RBF','Error_Percentage']].nsmallest(15, columns='Error_Percentage')"
   ]
  },
  {
   "cell_type": "markdown",
   "metadata": {},
   "source": [
    "## Conclusion"
   ]
  },
  {
   "cell_type": "markdown",
   "metadata": {},
   "source": [
    "## Resources\n",
    "\n",
    "Dataset: https://www.kaggle.com/thec03u5/fifa-18-demo-player-dataset#CompleteDataset.csv\n",
    "\n",
    "How Overall is calculated in FIFA 13: https://fifaforums.easports.com/en/discussion/277545/how-player-rating-is-calculated-it-is-a-total-mess\n",
    "\n",
    "Video about Ridge Regression: https://www.youtube.com/watch?v=Q81RR3yKn30\n",
    "\n",
    "Info about Ridge Regression: https://www.quora.com/What-is-ridge-regression-1\n",
    "\n",
    "\n"
   ]
  }
 ],
 "metadata": {
  "kernelspec": {
   "display_name": "Python 3",
   "language": "python",
   "name": "python3"
  },
  "language_info": {
   "codemirror_mode": {
    "name": "ipython",
    "version": 3
   },
   "file_extension": ".py",
   "mimetype": "text/x-python",
   "name": "python",
   "nbconvert_exporter": "python",
   "pygments_lexer": "ipython3",
   "version": "3.6.5"
  }
 },
 "nbformat": 4,
 "nbformat_minor": 2
}
